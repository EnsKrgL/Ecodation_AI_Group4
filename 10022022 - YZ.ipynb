{
 "cells": [
  {
   "cell_type": "code",
   "execution_count": 1,
   "id": "fcec6092",
   "metadata": {},
   "outputs": [
    {
     "data": {
      "text/plain": [
       "'\\n1- Agglomerative kümeleme (bottom-up)\\n2- Divisive kümeleme (top-down)\\n'"
      ]
     },
     "execution_count": 1,
     "metadata": {},
     "output_type": "execute_result"
    }
   ],
   "source": [
    "#Hierarchical Clustering (Hiyerarşik Kümeleme)\n",
    "\"\"\"\n",
    "1- Agglomerative kümeleme (bottom-up)\n",
    "2- Divisive kümeleme (top-down)\n",
    "\"\"\""
   ]
  },
  {
   "cell_type": "code",
   "execution_count": 2,
   "id": "b3951ec5",
   "metadata": {},
   "outputs": [],
   "source": [
    "import matplotlib.pyplot as plt\n",
    "import pandas as pd\n",
    "%matplotlib inline\n",
    "import numpy as np"
   ]
  },
  {
   "cell_type": "code",
   "execution_count": 3,
   "id": "bc2ecac0",
   "metadata": {},
   "outputs": [],
   "source": [
    "customer_data = pd.read_csv('data/Mall_Customers.csv')"
   ]
  },
  {
   "cell_type": "code",
   "execution_count": 4,
   "id": "1c6cd790",
   "metadata": {},
   "outputs": [
    {
     "data": {
      "text/plain": [
       "(200, 5)"
      ]
     },
     "execution_count": 4,
     "metadata": {},
     "output_type": "execute_result"
    }
   ],
   "source": [
    "customer_data.shape"
   ]
  },
  {
   "cell_type": "code",
   "execution_count": 5,
   "id": "e45afc46",
   "metadata": {},
   "outputs": [
    {
     "data": {
      "text/html": [
       "<div>\n",
       "<style scoped>\n",
       "    .dataframe tbody tr th:only-of-type {\n",
       "        vertical-align: middle;\n",
       "    }\n",
       "\n",
       "    .dataframe tbody tr th {\n",
       "        vertical-align: top;\n",
       "    }\n",
       "\n",
       "    .dataframe thead th {\n",
       "        text-align: right;\n",
       "    }\n",
       "</style>\n",
       "<table border=\"1\" class=\"dataframe\">\n",
       "  <thead>\n",
       "    <tr style=\"text-align: right;\">\n",
       "      <th></th>\n",
       "      <th>CustomerID</th>\n",
       "      <th>Genre</th>\n",
       "      <th>Age</th>\n",
       "      <th>Annual Income (k$)</th>\n",
       "      <th>Spending Score (1-100)</th>\n",
       "    </tr>\n",
       "  </thead>\n",
       "  <tbody>\n",
       "    <tr>\n",
       "      <th>0</th>\n",
       "      <td>1</td>\n",
       "      <td>Male</td>\n",
       "      <td>19</td>\n",
       "      <td>15</td>\n",
       "      <td>39</td>\n",
       "    </tr>\n",
       "    <tr>\n",
       "      <th>1</th>\n",
       "      <td>2</td>\n",
       "      <td>Male</td>\n",
       "      <td>21</td>\n",
       "      <td>15</td>\n",
       "      <td>81</td>\n",
       "    </tr>\n",
       "    <tr>\n",
       "      <th>2</th>\n",
       "      <td>3</td>\n",
       "      <td>Female</td>\n",
       "      <td>20</td>\n",
       "      <td>16</td>\n",
       "      <td>6</td>\n",
       "    </tr>\n",
       "    <tr>\n",
       "      <th>3</th>\n",
       "      <td>4</td>\n",
       "      <td>Female</td>\n",
       "      <td>23</td>\n",
       "      <td>16</td>\n",
       "      <td>77</td>\n",
       "    </tr>\n",
       "    <tr>\n",
       "      <th>4</th>\n",
       "      <td>5</td>\n",
       "      <td>Female</td>\n",
       "      <td>31</td>\n",
       "      <td>17</td>\n",
       "      <td>40</td>\n",
       "    </tr>\n",
       "  </tbody>\n",
       "</table>\n",
       "</div>"
      ],
      "text/plain": [
       "   CustomerID   Genre  Age  Annual Income (k$)  Spending Score (1-100)\n",
       "0           1    Male   19                  15                      39\n",
       "1           2    Male   21                  15                      81\n",
       "2           3  Female   20                  16                       6\n",
       "3           4  Female   23                  16                      77\n",
       "4           5  Female   31                  17                      40"
      ]
     },
     "execution_count": 5,
     "metadata": {},
     "output_type": "execute_result"
    }
   ],
   "source": [
    "customer_data.head()"
   ]
  },
  {
   "cell_type": "code",
   "execution_count": 6,
   "id": "2e861ec7",
   "metadata": {},
   "outputs": [],
   "source": [
    "data = customer_data.iloc[:, 3:5].values"
   ]
  },
  {
   "cell_type": "code",
   "execution_count": 7,
   "id": "d2959629",
   "metadata": {},
   "outputs": [
    {
     "data": {
      "image/png": "[encoded data removed]",
      "text/plain": [
       "<Figure size 720x504 with 1 Axes>"
      ]
     },
     "metadata": {
      "needs_background": "light"
     },
     "output_type": "display_data"
    }
   ],
   "source": [
    "import scipy.cluster.hierarchy as shc\n",
    "\n",
    "plt.figure(figsize = (10,7))\n",
    "plt.title(\"Müşteri Dendrogram\")\n",
    "dend = shc.dendrogram(shc.linkage(data, method = 'ward'))"
   ]
  },
  {
   "cell_type": "code",
   "execution_count": 8,
   "id": "ec767b18",
   "metadata": {},
   "outputs": [
    {
     "data": {
      "text/plain": [
       "array([4, 3, 4, 3, 4, 3, 4, 3, 4, 3, 4, 3, 4, 3, 4, 3, 4, 3, 4, 3, 4, 3,\n",
       "       4, 3, 4, 3, 4, 3, 4, 3, 4, 3, 4, 3, 4, 3, 4, 3, 4, 3, 4, 3, 4, 1,\n",
       "       4, 1, 1, 1, 1, 1, 1, 1, 1, 1, 1, 1, 1, 1, 1, 1, 1, 1, 1, 1, 1, 1,\n",
       "       1, 1, 1, 1, 1, 1, 1, 1, 1, 1, 1, 1, 1, 1, 1, 1, 1, 1, 1, 1, 1, 1,\n",
       "       1, 1, 1, 1, 1, 1, 1, 1, 1, 1, 1, 1, 1, 1, 1, 1, 1, 1, 1, 1, 1, 1,\n",
       "       1, 1, 1, 1, 1, 1, 1, 1, 1, 1, 1, 1, 1, 2, 1, 2, 1, 2, 0, 2, 0, 2,\n",
       "       1, 2, 0, 2, 0, 2, 0, 2, 0, 2, 1, 2, 0, 2, 1, 2, 0, 2, 0, 2, 0, 2,\n",
       "       0, 2, 0, 2, 0, 2, 1, 2, 0, 2, 0, 2, 0, 2, 0, 2, 0, 2, 0, 2, 0, 2,\n",
       "       0, 2, 0, 2, 0, 2, 0, 2, 0, 2, 0, 2, 0, 2, 0, 2, 0, 2, 0, 2, 0, 2,\n",
       "       0, 2], dtype=int64)"
      ]
     },
     "execution_count": 8,
     "metadata": {},
     "output_type": "execute_result"
    }
   ],
   "source": [
    "from sklearn.cluster import AgglomerativeClustering\n",
    "\n",
    "cluster = AgglomerativeClustering(n_clusters = 5, affinity = 'euclidean', linkage = 'ward')\n",
    "\n",
    "cluster.fit_predict(data)"
   ]
  },
  {
   "cell_type": "code",
   "execution_count": 9,
   "id": "c3a622f1",
   "metadata": {},
   "outputs": [
    {
     "data": {
      "text/plain": [
       "<matplotlib.collections.PathCollection at 0x1806272f670>"
      ]
     },
     "execution_count": 9,
     "metadata": {},
     "output_type": "execute_result"
    },
    {
     "data": {
      "image/png": "[encoded data removed]",
      "text/plain": [
       "<Figure size 360x360 with 1 Axes>"
      ]
     },
     "metadata": {
      "needs_background": "light"
     },
     "output_type": "display_data"
    }
   ],
   "source": [
    "plt.figure(figsize = (5,5))\n",
    "plt.scatter(data[:, 0], data[:, 1], c = cluster.labels_, cmap = 'rainbow')"
   ]
  },
  {
   "cell_type": "code",
   "execution_count": 10,
   "id": "a729e918",
   "metadata": {},
   "outputs": [],
   "source": [
    "%matplotlib inline\n",
    "import matplotlib.pyplot as plt\n",
    "import numpy as np"
   ]
  },
  {
   "cell_type": "code",
   "execution_count": 11,
   "id": "0d1c14d9",
   "metadata": {},
   "outputs": [
    {
     "data": {
      "image/png": "[encoded data removed]",
      "text/plain": [
       "<Figure size 720x504 with 1 Axes>"
      ]
     },
     "metadata": {
      "needs_background": "light"
     },
     "output_type": "display_data"
    }
   ],
   "source": [
    "X = np.array([[7, 8], [12, 20], [17, 19], [26, 15], [32, 37], [87, 75], [73, 85], [62, 80], [73, 60], [87, 96]])\n",
    "labels = range(1,11)\n",
    "plt.figure(figsize = (10,7))\n",
    "plt.subplots_adjust(bottom = 0.1)\n",
    "plt.scatter(X[:, 0], X[:, 1], label = 'True Position')\n",
    "\n",
    "for label, x, y in zip(labels, X[:, 0], X[:, 1]):\n",
    "    plt.annotate(label, xy=(x, y), xytext=(-3, 3), textcoords='offset points', ha = 'right', va = 'bottom')\n",
    "    \n",
    "plt.show()"
   ]
  },
  {
   "cell_type": "code",
   "execution_count": 12,
   "id": "79f3fc30",
   "metadata": {},
   "outputs": [
    {
     "data": {
      "image/png": "[encoded data removed]",
      "text/plain": [
       "<Figure size 720x504 with 1 Axes>"
      ]
     },
     "metadata": {
      "needs_background": "light"
     },
     "output_type": "display_data"
    }
   ],
   "source": [
    "from scipy.cluster.hierarchy import dendrogram, linkage\n",
    "import matplotlib.pyplot as plt\n",
    "\n",
    "linked = linkage(X, 'single')\n",
    "labelList = range(1,11)\n",
    "plt.figure(figsize = (10,7))\n",
    "\n",
    "dendrogram(linked, orientation = 'top', labels = labelList, distance_sort = 'descending', show_leaf_counts = True)\n",
    "\n",
    "plt.show()"
   ]
  },
  {
   "cell_type": "code",
   "execution_count": 13,
   "id": "c5fe18cc",
   "metadata": {},
   "outputs": [
    {
     "data": {
      "text/plain": [
       "array([0, 0, 0, 0, 0, 1, 1, 1, 1, 1], dtype=int64)"
      ]
     },
     "execution_count": 13,
     "metadata": {},
     "output_type": "execute_result"
    }
   ],
   "source": [
    "from sklearn.cluster import AgglomerativeClustering\n",
    "\n",
    "cluster = AgglomerativeClustering(n_clusters = 2, affinity = 'euclidean', linkage = 'ward')\n",
    "\n",
    "cluster.fit_predict(X)"
   ]
  },
  {
   "cell_type": "code",
   "execution_count": 14,
   "id": "adcc26d6",
   "metadata": {},
   "outputs": [
    {
     "data": {
      "text/plain": [
       "<matplotlib.collections.PathCollection at 0x1806039d460>"
      ]
     },
     "execution_count": 14,
     "metadata": {},
     "output_type": "execute_result"
    },
    {
     "data": {
      "image/png": "[encoded data removed]",
      "text/plain": [
       "<Figure size 432x288 with 1 Axes>"
      ]
     },
     "metadata": {
      "needs_background": "light"
     },
     "output_type": "display_data"
    }
   ],
   "source": [
    "plt.scatter(X[:, 0], X[:, 1], c = cluster.labels_, cmap = 'rainbow')"
   ]
  },
  {
   "cell_type": "code",
   "execution_count": 3,
   "id": "fe57f87c",
   "metadata": {},
   "outputs": [],
   "source": [
    "import gym\n",
    "import time\n",
    "env = gym.make('CartPole-v0')\n",
    "env.reset()\n",
    "for _ in range(1000):\n",
    "    env.render()\n",
    "    env.step(env.action_space.sample())\n",
    "    time.sleep(0.02)\n",
    "    if i%10==0: print(i)\n",
    "env.close()"
   ]
  },
  {
   "cell_type": "code",
   "execution_count": 1,
   "id": "ba6a9346",
   "metadata": {},
   "outputs": [
    {
     "name": "stdout",
     "output_type": "stream",
     "text": [
      "[ 0.01521025 -0.00685033  0.01679578 -0.01621055]\n",
      "[ 0.01507325 -0.20220909  0.01647157  0.28172398]\n",
      "[ 0.01102906 -0.0073259   0.02210605 -0.00571872]\n",
      "[ 0.01088255  0.18747215  0.02199168 -0.29134578]\n",
      "[ 0.01463199 -0.00795635  0.01616476  0.00819115]\n",
      "[ 0.01447286 -0.20330635  0.01632858  0.3059301 ]\n",
      "[ 0.01040674 -0.39865714  0.02244719  0.6037176 ]\n",
      "[ 0.00243359 -0.2038562   0.03452154  0.31818873]\n",
      "[-0.00164353 -0.3994524   0.04088531  0.6215555 ]\n",
      "[-0.00963258 -0.20492452  0.05331642  0.34202448]\n",
      "[-0.01373107 -0.4007629   0.06015691  0.6510322 ]\n",
      "[-0.02174633 -0.2065281   0.07317755  0.3778825 ]\n",
      "[-0.02587689 -0.01251757  0.08073521  0.10914058]\n",
      "[-0.02612724 -0.20869806  0.08291802  0.42616317]\n",
      "[-0.0303012  -0.4048906   0.09144128  0.7437908 ]\n",
      "[-0.03839901 -0.21114166  0.1063171   0.4812279 ]\n",
      "[-0.04262185 -0.40759104  0.11594166  0.80543655]\n",
      "[-0.05077367 -0.21423313  0.13205038  0.5513574 ]\n",
      "[-0.05505833 -0.41093835  0.14307754  0.88255656]\n",
      "[-0.0632771  -0.6076833   0.16072866  1.2165799 ]\n",
      "[-0.07543077 -0.41495705  0.18506026  0.9782676 ]\n",
      "[-0.08372991 -0.22273336  0.20462562  0.74895304]\n",
      "Bölüm 22 timestepten sonra tamamlandı\n",
      "[-0.04340153 -0.01281961 -0.04956548 -0.03506945]\n",
      "[-0.04365792 -0.20719703 -0.05026687  0.24157232]\n",
      "[-0.04780186 -0.01139442 -0.04543542 -0.06653285]\n",
      "[-0.04802975 -0.2058365  -0.04676608  0.21147585]\n",
      "[-0.05214648 -0.01007818 -0.04253656 -0.0955848 ]\n",
      "[-0.05234804  0.1856268  -0.04444826 -0.40137872]\n",
      "[-0.04863551 -0.00883743 -0.05247583 -0.12303395]\n",
      "[-0.04881226  0.18699552 -0.05493651 -0.43179983]\n",
      "[-0.04507235  0.38285056 -0.0635725  -0.7412824 ]\n",
      "[-0.03741534  0.18866117 -0.07839815 -0.46926445]\n",
      "[-0.03364211  0.38479802 -0.08778344 -0.7855915 ]\n",
      "[-0.02594615  0.5810093  -0.10349527 -1.1045504 ]\n",
      "[-0.01432597  0.77732867 -0.12558629 -1.427827  ]\n",
      "[ 1.2206084e-03  9.7375822e-01 -1.5414283e-01 -1.7569762e+00]\n",
      "[ 0.02069577  0.7806827  -0.18928234 -1.5159354 ]\n",
      "Bölüm 15 timestepten sonra tamamlandı\n",
      "[-0.03181041  0.0114749   0.0147983   0.04810564]\n",
      "[-0.03158091 -0.18385608  0.01576041  0.34542057]\n",
      "[-0.03525803  0.01103817  0.02266883  0.05774888]\n",
      "[-0.03503727 -0.18440135  0.02382381  0.35749692]\n",
      "[-0.03872529 -0.37985376  0.03097374  0.6575959 ]\n",
      "[-0.04632237 -0.57539284  0.04412566  0.9598686 ]\n",
      "[-0.05783023 -0.38089094  0.06332304  0.68136847]\n",
      "[-0.06544805 -0.57683253  0.0769504   0.9932963 ]\n",
      "[-0.0769847  -0.7728949   0.09681633  1.3091208 ]\n",
      "[-0.09244259 -0.96910095  0.12299874  1.6304711 ]\n",
      "[-0.11182462 -0.77562016  0.15560816  1.378513  ]\n",
      "[-0.12733702 -0.5827456   0.18317842  1.1382612 ]\n",
      "[-0.13899194 -0.39042902  0.20594364  0.90816635]\n",
      "Bölüm 13 timestepten sonra tamamlandı\n",
      "[0.00534128 0.0478085  0.0215101  0.03505078]\n",
      "[ 0.00629745 -0.14761521  0.02221112  0.33444202]\n",
      "[ 0.00334515 -0.3430461   0.02889996  0.6340456 ]\n",
      "[-0.00351577 -0.14833896  0.04158087  0.35060224]\n",
      "[-0.00648255  0.04616774  0.04859291  0.07131562]\n",
      "[-0.0055592   0.24056058  0.05001922 -0.20564875]\n",
      "[-0.00074799  0.4349329   0.04590625 -0.48214304]\n",
      "[ 0.00795067  0.23919407  0.03626339 -0.17535242]\n",
      "[0.01273455 0.0435724  0.03275634 0.12854625]\n",
      "[ 0.013606   -0.15200311  0.03532727  0.43138078]\n",
      "[0.01056594 0.04260127 0.04395488 0.15004042]\n",
      "[ 0.01141796 -0.15312164  0.04695569  0.4562598 ]\n",
      "[ 0.00835553 -0.34887493  0.05608089  0.763366  ]\n",
      "[ 0.00137803 -0.15456837  0.07134821  0.48884347]\n",
      "[-0.00171333  0.03947828  0.08112507  0.21947263]\n",
      "[-0.00092377 -0.15670395  0.08551452  0.5366028 ]\n",
      "[-0.00405785  0.0371181   0.09624659  0.27204272]\n",
      "[-0.00331549  0.23074435  0.10168744  0.01120037]\n",
      "[ 0.0012994   0.42427206  0.10191145 -0.24774705]\n",
      "[0.00978484 0.2278535  0.09695651 0.07526226]\n",
      "[ 0.01434191  0.42146143  0.09846175 -0.18532512]\n",
      "[ 0.02277114  0.6150468   0.09475525 -0.44539577]\n",
      "[ 0.03507208  0.80870944  0.08584733 -0.7067702 ]\n",
      "[ 0.05124627  1.0025438   0.07171193 -0.9712428 ]\n",
      "[ 0.07129714  0.80653644  0.05228707 -0.6569223 ]\n",
      "[ 0.08742787  1.000893    0.03914862 -0.93269336]\n",
      "[ 0.10744573  1.1954656   0.02049476 -1.2128217 ]\n",
      "[ 0.13135505  1.3903171  -0.00376167 -1.4990126 ]\n",
      "[ 0.15916139  1.5854845  -0.03374192 -1.7928675 ]\n",
      "[ 0.19087107  1.780968   -0.06959928 -2.095844  ]\n",
      "[ 0.22649044  1.5866116  -0.11151616 -1.8254611 ]\n",
      "[ 0.25822267  1.7827802  -0.14802538 -2.150604  ]\n",
      "[ 0.29387826  1.5893925  -0.19103746 -1.9070555 ]\n",
      "Bölüm 33 timestepten sonra tamamlandı\n",
      "[-0.03913936 -0.03565389 -0.00690783 -0.02907203]\n",
      "[-0.03985244 -0.2306761  -0.00748927  0.2614234 ]\n",
      "[-0.04446596 -0.42569035 -0.0022608   0.55173475]\n",
      "[-0.05297977 -0.23053673  0.00877389  0.2583404 ]\n",
      "[-0.0575905  -0.03554112  0.0139407  -0.03156227]\n",
      "[-0.05830133  0.15937817  0.01330945 -0.31981435]\n",
      "[-0.05511376 -0.03593078  0.00691317 -0.02296402]\n",
      "[-0.05583237  0.15909135  0.00645389 -0.31345776]\n",
      "[-0.05265055 -0.03612194  0.00018473 -0.0187465 ]\n",
      "[-5.3372990e-02 -2.3124655e-01 -1.9019777e-04  2.7399471e-01]\n",
      "[-0.05799792 -0.03612188  0.0052897  -0.0187482 ]\n",
      "[-0.05872036  0.15892382  0.00491473 -0.30975747]\n",
      "[-0.05554188 -0.03626781 -0.00128042 -0.01552865]\n",
      "[-0.05626724 -0.23137137 -0.00159099  0.27675003]\n",
      "[-0.06089466 -0.03622676  0.00394401 -0.01643429]\n",
      "[-0.0616192  -0.23140505  0.00361532  0.2774904 ]\n",
      "[-0.0662473  -0.4265784   0.00916513  0.5713114 ]\n",
      "[-0.07477887 -0.62182766  0.02059136  0.86686754]\n",
      "[-0.08721542 -0.81722367  0.03792871  1.1659528 ]\n",
      "[-0.1035599  -1.0128182   0.06124777  1.470282  ]\n",
      "[-0.12381626 -1.2086335   0.0906534   1.7814499 ]\n",
      "[-0.14798893 -1.4046507   0.12628241  2.1008837 ]\n",
      "[-0.17608194 -1.6007946   0.16830008  2.4297853 ]\n",
      "Bölüm 23 timestepten sonra tamamlandı\n",
      "[-0.02565992 -0.01854428 -0.02486445  0.03942624]\n",
      "[-0.0260308   0.17692524 -0.02407592 -0.2609968 ]\n",
      "[-0.0224923  -0.0178449  -0.02929586  0.0239961 ]\n",
      "[-0.0228492  -0.21253474 -0.02881594  0.3072938 ]\n",
      "[-0.02709989 -0.4072345  -0.02267006  0.59075147]\n",
      "[-0.03524458 -0.21180259 -0.01085503  0.29101452]\n",
      "[-0.03948063 -0.40676808 -0.00503474  0.5802542 ]\n",
      "[-0.047616   -0.21157596  0.00657034  0.28598952]\n",
      "[-0.05184751 -0.406791    0.01229013  0.5807374 ]\n",
      "[-0.05998334 -0.60208297  0.02390488  0.87726647]\n",
      "[-0.07202499 -0.79752153  0.04145021  1.1773679 ]\n",
      "[-0.08797543 -0.6029617   0.06499757  0.8979618 ]\n",
      "[-0.10003466 -0.7989017   0.08295681  1.2103468 ]\n",
      "[-0.11601269 -0.99499094  0.10716374  1.5278306 ]\n",
      "[-0.13591251 -0.8013127   0.13772035  1.2704257 ]\n",
      "[-0.15193877 -0.99789757  0.16312887  1.6028728 ]\n",
      "[-0.17189671 -1.1945312   0.19518633  1.941655  ]\n",
      "Bölüm 17 timestepten sonra tamamlandı\n",
      "[ 0.04943895  0.01659675  0.00742776 -0.01661933]\n",
      "[ 0.04977088  0.21161139  0.00709538 -0.3069495 ]\n",
      "[ 0.05400311  0.01638906  0.00095639 -0.01203733]\n",
      "[ 0.05433089  0.21149728  0.00071564 -0.30441836]\n",
      "[ 0.05856083  0.01636514 -0.00537273 -0.01150981]\n",
      "[ 0.05888814  0.21156372 -0.00560292 -0.30588305]\n",
      "[ 0.06311941  0.01652206 -0.01172058 -0.0149724 ]\n",
      "[ 0.06344985  0.21181013 -0.01202003 -0.31133014]\n",
      "[ 0.06768606  0.40710124 -0.01824663 -0.60777944]\n",
      "[ 0.07582808  0.21223909 -0.03040222 -0.3208991 ]\n",
      "[ 0.08007286  0.01756299 -0.03682021 -0.03795677]\n",
      "[ 0.08042412 -0.17701215 -0.03757934  0.24288541]\n",
      "[ 0.07688388  0.01862588 -0.03272163 -0.06141016]\n",
      "[ 0.0772564   0.21420133 -0.03394984 -0.36423475]\n",
      "[ 0.08154042  0.4097889  -0.04123453 -0.6674264 ]\n",
      "[ 0.0897362   0.60545933 -0.05458306 -0.97280204]\n",
      "[ 0.10184539  0.41111058 -0.0740391  -0.69775254]\n",
      "[ 0.1100676   0.21708912 -0.08799415 -0.4292653 ]\n",
      "[ 0.11440938  0.41333982 -0.09657945 -0.7483393 ]\n",
      "[ 0.12267618  0.21967345 -0.11154624 -0.48754376]\n",
      "[ 0.12706965  0.02628753 -0.12129711 -0.2319943 ]\n",
      "[ 0.1275954  -0.16691124 -0.125937    0.0201006 ]\n",
      "[ 0.12425718 -0.36002323 -0.125535    0.27054685]\n",
      "[ 0.11705671 -0.1633543  -0.12012406 -0.05894552]\n",
      "[ 0.11378963  0.03326686 -0.12130296 -0.38698354]\n",
      "[ 0.11445496 -0.15994312 -0.12904264 -0.13487385]\n",
      "[ 0.1112561  -0.35300323 -0.13174011  0.11447521]\n",
      "[ 0.10419603 -0.15626381 -0.1294506  -0.21669641]\n",
      "[ 0.10107075 -0.34932044 -0.13378453  0.03251328]\n",
      "[ 0.09408434 -0.54229546 -0.13313428  0.28017378]\n",
      "[ 0.08323844 -0.7352919  -0.1275308   0.52808064]\n",
      "[ 0.0685326  -0.5386281  -0.11696918  0.19808815]\n",
      "[ 0.05776004 -0.7318997  -0.11300742  0.45170397]\n",
      "[ 0.04312205 -0.9252572  -0.10397334  0.7067368 ]\n",
      "[ 0.0246169 -1.1187968 -0.0898386  0.9649653]\n",
      "[ 0.00224097 -0.92259043 -0.0705393   0.64546555]\n",
      "[-0.01621084 -0.72656006 -0.05762999  0.33142993]\n",
      "[-0.03074204 -0.5306672  -0.05100139  0.02114455]\n",
      "[-0.04135539 -0.3348523  -0.0505785  -0.28718373]\n",
      "[-0.04805243 -0.52921784 -0.05632217 -0.010872  ]\n",
      "[-0.05863679 -0.3333353  -0.05653961 -0.3207799 ]\n",
      "[-0.0653035  -0.13745566 -0.06295521 -0.6307436 ]\n",
      "[-0.06805261  0.05848562 -0.07557008 -0.9425699 ]\n",
      "[-0.0668829  -0.13554119 -0.09442148 -0.6745568 ]\n",
      "[-0.06959372 -0.3292329  -0.10791261 -0.41303208]\n",
      "[-0.07617838 -0.52267295 -0.11617326 -0.15622462]\n",
      "[-0.08663184 -0.32609588 -0.11929775 -0.48318085]\n"
     ]
    },
    {
     "name": "stdout",
     "output_type": "stream",
     "text": [
      "[-0.09315376 -0.12951006 -0.12896137 -0.8109541 ]\n",
      "[-0.09574395 -0.32265174 -0.14518045 -0.56145704]\n",
      "[-0.10219699 -0.12582274 -0.15640959 -0.89612776]\n",
      "[-0.10471345 -0.31851786 -0.17433214 -0.6564106 ]\n",
      "[-0.11108381 -0.5108395  -0.18746036 -0.42329517]\n",
      "[-0.12130059 -0.31362543 -0.19592626 -0.76872486]\n",
      "Bölüm 53 timestepten sonra tamamlandı\n",
      "[-0.04880137  0.02702151  0.01410746  0.0227157 ]\n",
      "[-0.04826093  0.22193833  0.01456177 -0.265483  ]\n",
      "[-0.04382217  0.41684946  0.00925211 -0.55353767]\n",
      "[-0.03548518  0.61184025 -0.00181864 -0.8432913 ]\n",
      "[-0.02324837  0.806987   -0.01868447 -1.1365455 ]\n",
      "[-0.00710863  1.0023483  -0.04141538 -1.4350293 ]\n",
      "[ 0.01293833  1.1979558  -0.07011597 -1.7403616 ]\n",
      "[ 0.03689745  1.3938026  -0.1049232  -2.0540073 ]\n",
      "[ 0.0647735   1.5898299  -0.14600335 -2.377222  ]\n",
      "[ 0.0965701   1.7859104  -0.19354779 -2.710986  ]\n",
      "Bölüm 10 timestepten sonra tamamlandı\n",
      "[-0.03254084  0.04430594 -0.04708703  0.00286417]\n",
      "[-0.03165472 -0.15011019 -0.04702975  0.28032666]\n",
      "[-0.03465692 -0.34453082 -0.04142322  0.5578135 ]\n",
      "[-0.04154754 -0.53904754 -0.03026694  0.8371634 ]\n",
      "[-0.05232849 -0.7337433  -0.01352368  1.1201762 ]\n",
      "[-0.06700335 -0.9286853   0.00887985  1.4085865 ]\n",
      "[-0.08557706 -0.73367465  0.03705158  1.1186928 ]\n",
      "[-0.10025056 -0.5390579   0.05942543  0.8378586 ]\n",
      "[-0.11103171 -0.34479564  0.0761826   0.56444037]\n",
      "[-0.11792763 -0.54089916  0.08747141  0.8801185 ]\n",
      "[-0.12874562 -0.3470675   0.10507378  0.6161664 ]\n",
      "[-0.13568696 -0.15355831  0.11739711  0.35833836]\n",
      "[-0.13875812  0.03971608  0.12456388  0.1048578 ]\n",
      "[-0.1379638   0.23285322  0.12666103 -0.1460761 ]\n",
      "[-0.13330674  0.4259552   0.12373951 -0.39626986]\n",
      "[-0.12478764  0.6191242   0.11581411 -0.64752126]\n",
      "[-0.11240515  0.42259538  0.10286369 -0.32072958]\n",
      "[-0.10395324  0.22617045  0.0964491   0.00253905]\n",
      "[-0.09942983  0.02980709  0.09649988  0.32402727]\n",
      "[-0.0988337   0.22343202  0.10298043  0.06326808]\n",
      "[-0.09436505  0.41693828  0.10424578 -0.19523081]\n",
      "[-0.08602629  0.2204916   0.10034117  0.12843232]\n",
      "[-0.08161645  0.41404366  0.10290982 -0.1309846 ]\n",
      "[-0.07333558  0.21760963  0.10029013  0.19230969]\n",
      "[-0.06898339  0.41116452  0.10413632 -0.06712791]\n",
      "[-0.0607601   0.6046513   0.10279376 -0.325225  ]\n",
      "[-0.04866707  0.40822738  0.09628926 -0.00197627]\n",
      "[-0.04050253  0.601846    0.09624974 -0.2627935 ]\n",
      "[-0.0284656   0.7954717   0.09099387 -0.5236341 ]\n",
      "[-0.01255617  0.98920316  0.08052118 -0.7863137 ]\n",
      "[ 0.00722789  1.1831319   0.06479491 -1.0526168 ]\n",
      "[ 0.03089053  1.3773377   0.04374257 -1.3242778 ]\n",
      "[ 0.05843728  1.5718807   0.01725702 -1.6029569 ]\n",
      "[ 0.0898749   1.7667942  -0.01480212 -1.8902103 ]\n",
      "[ 0.12521079  1.5718361  -0.05260633 -1.6021568 ]\n",
      "[ 0.1566475   1.7675399  -0.08464946 -1.9107654 ]\n",
      "[ 0.1919983   1.5734265  -0.12286477 -1.6454952 ]\n",
      "[ 0.22346683  1.3799378  -0.15577467 -1.3934815 ]\n",
      "[ 0.25106558  1.5766175  -0.1836443  -1.7305416 ]\n",
      "Bölüm 39 timestepten sonra tamamlandı\n",
      "[-0.04653871 -0.03837443  0.03364238 -0.04578601]\n",
      "[-0.04730619 -0.23396224  0.03272666  0.25731868]\n",
      "[-0.05198544 -0.03932243  0.03787303 -0.02486477]\n",
      "[-0.05277189  0.1552365   0.03737574 -0.30536187]\n",
      "[-0.04966716 -0.04039759  0.0312685  -0.00112978]\n",
      "[-0.05047511 -0.2359537   0.0312459   0.30125242]\n",
      "[-0.05519418 -0.43150675  0.03727095  0.6036236 ]\n",
      "[-0.06382432 -0.6271296   0.04934342  0.90780926]\n",
      "[-0.07636691 -0.4327091   0.06749961  0.63103455]\n",
      "[-0.08502109 -0.23859067  0.0801203   0.3603498 ]\n",
      "[-0.08979291 -0.0446936   0.08732729  0.09396736]\n",
      "[-0.09068678 -0.2409516   0.08920664  0.4128742 ]\n",
      "[-0.09550581 -0.43721732  0.09746413  0.73229414]\n",
      "[-0.10425016 -0.6335413   0.11211001  1.0539916 ]\n",
      "[-0.11692099 -0.8299565   0.13318984  1.3796562 ]\n",
      "[-0.13352011 -1.0264659   0.16078296  1.7108518 ]\n",
      "[-0.15404943 -1.2230284   0.19500001  2.0489595 ]\n",
      "Bölüm 17 timestepten sonra tamamlandı\n",
      "[ 0.00880089  0.02838283  0.02382094 -0.02646702]\n",
      "[ 0.00936855 -0.16707249  0.0232916   0.27363548]\n",
      "[ 0.0060271  -0.3625189   0.02876431  0.5735727 ]\n",
      "[-0.00122328 -0.1678118   0.04023576  0.2900884 ]\n",
      "[-0.00457951 -0.3634837   0.04603752  0.5951848 ]\n",
      "[-0.01184919 -0.16903529  0.05794122  0.3173515 ]\n",
      "[-0.01522989 -0.36493257  0.06428825  0.6277295 ]\n",
      "[-0.02252855 -0.17076401  0.07684284  0.35596606]\n",
      "[-0.02594383 -0.36688963  0.08396216  0.67185587]\n",
      "[-0.03328162 -0.56307214  0.09739928  0.98974895]\n",
      "[-0.04454306 -0.7593534   0.11719426  1.3113655 ]\n",
      "[-0.05973013 -0.9557481   0.14342158  1.638313  ]\n",
      "[-0.07884509 -0.7625694   0.17618783  1.3935417 ]\n",
      "[-0.09409648 -0.57002306  0.20405866  1.160725  ]\n",
      "Bölüm 14 timestepten sonra tamamlandı\n",
      "[ 0.02568666 -0.03160396 -0.01661528 -0.03917292]\n",
      "[ 0.02505458  0.16375226 -0.01739874 -0.33705148]\n",
      "[ 0.02832962 -0.03111783 -0.02413977 -0.04990556]\n",
      "[ 0.02770727 -0.22588547 -0.02513788  0.23506439]\n",
      "[ 0.02318956 -0.42063943 -0.0204366   0.5197132 ]\n",
      "[ 0.01477677 -0.6154678  -0.01004233  0.8058868 ]\n",
      "[ 0.00246741 -0.8104507   0.0060754   1.095394  ]\n",
      "[-0.0137416  -1.0056521   0.02798328  1.3899769 ]\n",
      "[-0.03385464 -1.2011112   0.05578282  1.6912768 ]\n",
      "[-0.05787687 -1.3968314   0.08960836  2.000792  ]\n",
      "[-0.08581349 -1.2027519   0.1296242   1.7371505 ]\n",
      "[-0.10986853 -1.3990915   0.16436721  2.067192  ]\n",
      "[-0.13785036 -1.5954616   0.20571105  2.4058838 ]\n",
      "Bölüm 13 timestepten sonra tamamlandı\n",
      "[ 0.03697105 -0.01069875  0.03075925  0.02206582]\n",
      "[ 0.03675708  0.18396889  0.03120056 -0.26075572]\n",
      "[ 0.04043646 -0.01158424  0.02598545  0.04160269]\n",
      "[ 0.04020477 -0.207069    0.0268175   0.34236968]\n",
      "[ 0.03606339 -0.01233863  0.03366489  0.05826258]\n",
      "[ 0.03581662  0.18228486  0.03483015 -0.22361164]\n",
      "[ 0.03946232  0.37689212  0.03035791 -0.5051075 ]\n",
      "[ 0.04700016  0.1813558   0.02025576 -0.2030143 ]\n",
      "[ 0.05062728  0.37618232  0.01619548 -0.4892393 ]\n",
      "[ 0.05815092  0.57107204  0.00641069 -0.77677435]\n",
      "[ 0.06957237  0.7661053  -0.0091248  -1.0674335 ]\n",
      "[ 0.08489447  0.96134675 -0.03047347 -1.3629661 ]\n",
      "[ 0.1041214   1.156837   -0.05773279 -1.6650231 ]\n",
      "[ 0.12725814  1.3525813  -0.09103325 -1.9751145 ]\n",
      "[ 0.15430976  1.5485371  -0.13053554 -2.2945578 ]\n",
      "[ 0.18528052  1.3548375  -0.1764267  -2.044749  ]\n",
      "Bölüm 16 timestepten sonra tamamlandı\n",
      "[-0.01633514  0.0062343  -0.00423476 -0.02738801]\n",
      "[-0.01621046  0.20141673 -0.00478252 -0.32140404]\n",
      "[-0.01218212  0.00636321 -0.0112106  -0.03023316]\n",
      "[-0.01205486  0.20164412 -0.01181526 -0.32643196]\n",
      "[-0.00802197  0.00669236 -0.0183439  -0.03749835]\n",
      "[-0.00788813 -0.1881618  -0.01909387  0.2493409 ]\n",
      "[-0.01165136  0.00722755 -0.01410705 -0.04930294]\n",
      "[-0.01150681 -0.1876893  -0.01509311  0.23889592]\n",
      "[-0.0152606  -0.38259244 -0.01031519  0.52678007]\n",
      "[-2.2912446e-02 -5.7756776e-01  2.2041031e-04  8.1619489e-01]\n",
      "[-0.0344638  -0.3824488   0.01654431  0.52358127]\n",
      "[-0.04211278 -0.18756355  0.02701593  0.23615722]\n",
      "[-0.04586405 -0.38306084  0.03173908  0.5372379 ]\n",
      "[-0.05352527 -0.18839918  0.04248384  0.25472218]\n",
      "[-0.05729325 -0.38410115  0.04757828  0.56049675]\n",
      "[-0.06497527 -0.57985747  0.05878821  0.86778164]\n",
      "[-0.07657242 -0.7757279   0.07614385  1.1783535 ]\n",
      "[-0.09208698 -0.97175163  0.09971092  1.4939018 ]\n",
      "[-0.11152201 -1.1679351   0.12958896  1.8159819 ]\n",
      "[-0.13488072 -0.97447157  0.16590859  1.5662124 ]\n",
      "[-0.15437014 -0.7816751   0.19723284  1.3295424 ]\n",
      "Bölüm 21 timestepten sonra tamamlandı\n",
      "[0.00256582 0.04654822 0.00577715 0.02021561]\n",
      "[ 0.00349679  0.24158685  0.00618146 -0.27063897]\n",
      "[0.00832852 0.04637723 0.00076868 0.02398719]\n",
      "[ 0.00925607 -0.14875573  0.00124843  0.31691256]\n",
      "[0.00628095 0.04634842 0.00758668 0.02462359]\n",
      "[ 0.00720792  0.24136075  0.00807915 -0.26565602]\n",
      "[0.01203514 0.04612442 0.00276603 0.02956414]\n",
      "[ 0.01295763  0.2412066   0.00335731 -0.2622448 ]\n",
      "[ 0.01778176  0.43628046 -0.00188758 -0.5538669 ]\n",
      "[ 0.02650737  0.24118507 -0.01296492 -0.26177928]\n",
      "[ 0.03133107  0.43648967 -0.01820051 -0.5585231 ]\n",
      "[ 0.04006086  0.24162787 -0.02937097 -0.27162948]\n",
      "[ 0.04489342  0.43715635 -0.03480356 -0.5734295 ]\n",
      "[ 0.05363655  0.24253921 -0.04627215 -0.2919108 ]\n",
      "[ 0.05848733  0.04810651 -0.05211037 -0.01417308]\n",
      "[ 0.05944946 -0.14623088 -0.05239383  0.2616238 ]\n",
      "[ 0.05652484 -0.3405673  -0.04716135  0.5373317 ]\n",
      "[ 0.0497135  -0.53499556 -0.03641472  0.8147895 ]\n",
      "[ 0.03901359 -0.33939436 -0.02011893  0.5108787 ]\n",
      "[ 0.0322257  -0.14399487 -0.00990136  0.21192417]\n",
      "[ 0.0293458  -0.33897388 -0.00566287  0.50146735]\n",
      "[ 0.02256632 -0.53401554  0.00436647  0.7923603 ]\n"
     ]
    },
    {
     "name": "stdout",
     "output_type": "stream",
     "text": [
      "[ 0.01188601 -0.3389538   0.02021368  0.5010542 ]\n",
      "[ 0.00510694 -0.14412254  0.03023477  0.21480946]\n",
      "[ 0.00222449  0.0505544   0.03453096 -0.06818483]\n",
      "[ 0.00323557  0.2451647   0.03316726 -0.34977618]\n",
      "[ 0.00813887  0.43979964  0.02617173 -0.63181865]\n",
      "[ 0.01693486  0.24432251  0.01353536 -0.33100972]\n",
      "[ 0.02182131  0.04901052  0.00691517 -0.03408932]\n",
      "[ 0.02280152  0.24403264  0.00623338 -0.32458243]\n",
      "[ 2.7682174e-02  4.3906528e-01 -2.5826806e-04 -6.1529315e-01]\n",
      "[ 0.03646348  0.63419086 -0.01256413 -0.9080574 ]\n",
      "[ 0.0491473   0.8294806  -0.03072528 -1.2046627 ]\n",
      "[ 0.0657369   1.0249859  -0.05481853 -1.506814  ]\n",
      "[ 0.08623663  1.2207282  -0.08495481 -1.8160949 ]\n",
      "[ 0.11065119  1.4166863  -0.12127671 -2.1339188 ]\n",
      "[ 0.13898492  1.6127831  -0.16395508 -2.4614713 ]\n",
      "Bölüm 37 timestepten sonra tamamlandı\n",
      "[ 0.0063356  -0.0090183  -0.02201705 -0.04559239]\n",
      "[ 0.00615523  0.18641233 -0.0229289  -0.34513977]\n",
      "[ 0.00988348  0.3818528  -0.0298317  -0.644964  ]\n",
      "[ 0.01752054  0.18715902 -0.04273098 -0.3618224 ]\n",
      "[ 0.02126371 -0.00733035 -0.04996742 -0.08291376]\n",
      "[ 0.02111711 -0.20170175 -0.0516257   0.19359513]\n",
      "[ 0.01708307 -0.00588075 -0.0477538  -0.11491622]\n",
      "[ 0.01696546  0.18989176 -0.05005212 -0.4222745 ]\n",
      "[ 0.02076329 -0.00448667 -0.05849761 -0.14578117]\n",
      "[ 0.02067356  0.1914221  -0.06141324 -0.45633018]\n",
      "[ 0.024502    0.38735613 -0.07053984 -0.7677213 ]\n",
      "[ 0.03224912  0.58337456 -0.08589426 -1.0817393 ]\n",
      "[ 0.04391662  0.7795188  -0.10752905 -1.4000927 ]\n",
      "[ 0.05950699  0.97580034 -0.1355309  -1.7243673 ]\n",
      "[ 0.079023    1.1721879  -0.17001826 -2.0559716 ]\n",
      "Bölüm 15 timestepten sonra tamamlandı\n",
      "[-0.01924906 -0.00208332  0.03788674 -0.00850798]\n",
      "[-0.01929073 -0.19772756  0.03771659  0.2958838 ]\n",
      "[-0.02324528 -0.00316303  0.04363426  0.01533063]\n",
      "[-0.02330854  0.19130686  0.04394087 -0.26327217]\n",
      "[-0.0194824  -0.00441385  0.03867543  0.04293998]\n",
      "[-0.01957068 -0.20006843  0.03953423  0.34757015]\n",
      "[-0.02357205 -0.39572975  0.04648563  0.6524528 ]\n",
      "[-0.03148665 -0.5914672   0.05953469  0.95940363]\n",
      "[-0.04331599 -0.78733677  0.07872276  1.2701803 ]\n",
      "[-0.05906272 -0.98337054  0.10412637  1.5864409 ]\n",
      "[-0.07873014 -1.1795648   0.13585518  1.9096962 ]\n",
      "[-0.10232143 -1.3758658   0.17404911  2.2412534 ]\n",
      "Bölüm 12 timestepten sonra tamamlandı\n",
      "[ 0.0090283   0.00291932 -0.02412469 -0.00306862]\n",
      "[ 0.00908669  0.1983788  -0.02418607 -0.3032645 ]\n",
      "[ 0.01305426  0.39383695 -0.03025136 -0.603476  ]\n",
      "[ 0.020931    0.19915086 -0.04232087 -0.32047302]\n",
      "[ 0.02491402  0.39484915 -0.04873034 -0.62619627]\n",
      "[ 0.032811    0.2004401  -0.06125426 -0.34924984]\n",
      "[ 0.0368198   0.00624038 -0.06823926 -0.0764941 ]\n",
      "[ 0.03694461 -0.18784031 -0.06976914  0.19390263]\n",
      "[ 0.03318781  0.00820671 -0.06589109 -0.11994797]\n",
      "[ 0.03335194 -0.18591234 -0.06829005  0.15124078]\n",
      "[ 0.02963369 -0.37999335 -0.06526523  0.42162207]\n",
      "[ 0.02203383 -0.57413286 -0.05683279  0.693037  ]\n",
      "[ 0.01055117 -0.76842225 -0.04297205  0.96730065]\n",
      "[-0.00481728 -0.5727504  -0.02362604  0.66143394]\n",
      "[-0.01627228 -0.7675358  -0.01039736  0.94658506]\n",
      "[-0.031623   -0.57227534  0.00853434  0.6506535 ]\n",
      "[-0.04306851 -0.7675151   0.02154741  0.94601154]\n",
      "[-0.05841881 -0.5726899   0.04046765  0.66017604]\n",
      "[-0.06987261 -0.76835096  0.05367117  0.96532154]\n",
      "[-0.08523963 -0.5739894   0.0729776   0.6899708 ]\n",
      "[-0.09671941 -0.37995198  0.08677702  0.4211257 ]\n",
      "[-0.10431845 -0.57618934  0.09519953  0.73985463]\n",
      "[-0.11584225 -0.7724878   0.10999662  1.0609155 ]\n",
      "[-0.131292   -0.9688809   0.13121493  1.3859985 ]\n",
      "[-0.15066962 -1.1653718   0.1589349   1.7166678 ]\n",
      "[-0.17397705 -1.3619196   0.19326825  2.0543041 ]\n",
      "Bölüm 26 timestepten sonra tamamlandı\n",
      "[ 0.00512933  0.02140231 -0.04588813 -0.00064002]\n",
      "[ 0.00555738 -0.17303252 -0.04590093  0.27721885]\n",
      "[ 0.00209672  0.02271319 -0.04035655 -0.02958062]\n",
      "[ 0.00255099  0.21838994 -0.04094817 -0.33471838]\n",
      "[ 0.00691879  0.02387398 -0.04764253 -0.05522439]\n",
      "[ 0.00739627 -0.17053363 -0.04874702  0.22205451]\n",
      "[ 0.00398559  0.02524996 -0.04430593 -0.08559796]\n",
      "[ 0.00449059 -0.16920981 -0.04601789  0.19278377]\n",
      "[ 0.0011064  -0.3636443  -0.04216221  0.47060224]\n",
      "[-0.00616649 -0.16795294 -0.03275017  0.16493407]\n",
      "[-0.00952555  0.02762216 -0.02945149 -0.13789809]\n",
      "[-0.0089731  -0.16706586 -0.03220945  0.1453498 ]\n",
      "[-0.01231442 -0.3617121  -0.02930245  0.42769977]\n",
      "[-0.01954866 -0.55640703 -0.02074846  0.7110031 ]\n",
      "[-0.0306768  -0.361004   -0.0065284   0.41186205]\n",
      "[-0.03789688 -0.16579011  0.00170885  0.11712813]\n",
      "[-0.04121269 -0.3609365   0.00405141  0.4103497 ]\n",
      "[-0.04843142 -0.5561157   0.0122584   0.70430714]\n",
      "[-0.05955373 -0.3611657   0.02634455  0.41550806]\n",
      "[-0.06677704 -0.16642685  0.03465471  0.13124554]\n",
      "[-0.07010558 -0.36202765  0.03727962  0.434657  ]\n",
      "[-0.07734613 -0.16745274  0.04597276  0.15395512]\n",
      "[-0.08069519  0.02698183  0.04905186 -0.12387738]\n",
      "[-0.08015555 -0.16880728  0.04657431  0.18386853]\n",
      "[-0.0835317   0.02561838  0.05025168 -0.09376583]\n",
      "[-0.08301933  0.21998541  0.04837637 -0.37018055]\n",
      "[-0.07861962  0.41438785  0.04097275 -0.647226  ]\n",
      "[-0.07033186  0.21871972  0.02802823 -0.34192747]\n",
      "[-0.06595747  0.02321044  0.02118969 -0.04053952]\n",
      "[-0.06549326  0.21802223  0.0203789  -0.3264623 ]\n",
      "[-0.06113281  0.4128482   0.01384965 -0.61264956]\n",
      "[-0.05287585  0.21753547  0.00159666 -0.3156369 ]\n",
      "[-0.04852514  0.0223908  -0.00471608 -0.02245088]\n",
      "[-0.04807733  0.21758007 -0.0051651  -0.31661806]\n",
      "[-0.04372573  0.41277522 -0.01149746 -0.6109254 ]\n",
      "[-0.03547022  0.60805595 -0.02371597 -0.9072073 ]\n",
      "[-0.0233091   0.8034908  -0.04186011 -1.207249  ]\n",
      "[-0.00723929  0.9991278  -0.0660051  -1.5127507 ]\n",
      "[ 0.01274327  1.1949841  -0.09626011 -1.8252867 ]\n",
      "[ 0.03664295  1.0010527  -0.13276584 -1.5639933 ]\n",
      "[ 0.05666401  1.1974887  -0.1640457  -1.8949727 ]\n",
      "[ 0.08061378  1.3939657  -0.20194517 -2.233745  ]\n",
      "Bölüm 42 timestepten sonra tamamlandı\n",
      "[-0.00383469  0.02156989  0.04032612 -0.01969657]\n",
      "[-0.00340329  0.216091    0.03993219 -0.29938838]\n",
      "[0.00091853 0.02042329 0.03394442 0.00561617]\n",
      "[ 0.001327   -0.17516862  0.03405674  0.30881277]\n",
      "[-0.00217638 -0.37075886  0.040233    0.61203873]\n",
      "[-0.00959155 -0.17622161  0.05247377  0.33229432]\n",
      "[-0.01311599 -0.37204966  0.05911966  0.6410523 ]\n",
      "[-0.02055698 -0.17779952  0.07194071  0.3675572 ]\n",
      "[-0.02411297 -0.37386605  0.07929185  0.6820286 ]\n",
      "[-0.03159029 -0.1799296   0.09293242  0.4153253 ]\n",
      "[-0.03518888  0.0137608   0.10123893  0.15332623]\n",
      "[-0.03491367  0.2072984   0.10430545 -0.10578031]\n",
      "[-0.0307677   0.40078294  0.10218985 -0.36381957]\n",
      "[-0.02275204  0.59431535  0.09491345 -0.6226122 ]\n",
      "[-0.01086573  0.78799284  0.08246121 -0.8839581 ]\n",
      "[ 0.00489412  0.98190403  0.06478205 -1.1496204 ]\n",
      "[ 0.0245322   0.7859992   0.04178964 -0.8373469 ]\n",
      "[ 0.04025219  0.59033215  0.0250427  -0.53182006]\n",
      "[ 0.05205883  0.78509307  0.0144063  -0.81650805]\n",
      "[ 0.06776069  0.98001486 -0.00192386 -1.1046251 ]\n",
      "[ 0.08736099  1.1751621  -0.02401636 -1.397911  ]\n",
      "[ 0.11086423  0.98034686 -0.05197458 -1.1128325 ]\n",
      "[ 0.13047117  0.7859446  -0.07423123 -0.83689654]\n",
      "[ 0.14619006  0.5919107  -0.09096917 -0.5684512 ]\n",
      "[ 0.15802827  0.7881829  -0.10233819 -0.8883503 ]\n",
      "[ 0.17379193  0.5945876  -0.12010519 -0.6295116 ]\n",
      "[ 0.18568368  0.7911627  -0.13269542 -0.9574762 ]\n",
      "[ 0.20150694  0.9877953  -0.15184495 -1.2887301 ]\n",
      "[ 0.22126284  1.1844872  -0.17761955 -1.6248443 ]\n",
      "Bölüm 29 timestepten sonra tamamlandı\n"
     ]
    }
   ],
   "source": [
    "import gym\n",
    "\n",
    "env = gym.make('CartPole-v0')\n",
    "\n",
    "for _ in range(20):\n",
    "    observation = env.reset()\n",
    "    for i in range(100):\n",
    "        env.render()\n",
    "        print(observation)\n",
    "        action = env.action_space.sample()\n",
    "        observation, reward, done, info = env.step(action)\n",
    "        if done:\n",
    "            print(\"Bölüm {} timestepten sonra tamamlandı\".format(i+1))\n",
    "            break"
   ]
  },
  {
   "cell_type": "code",
   "execution_count": 1,
   "id": "f29ffdaf",
   "metadata": {},
   "outputs": [
    {
     "name": "stdout",
     "output_type": "stream",
     "text": [
      "0\n",
      "10\n",
      "20\n"
     ]
    },
    {
     "name": "stderr",
     "output_type": "stream",
     "text": [
      "C:\\Users\\ITU\\anaconda3\\lib\\site-packages\\gym\\envs\\classic_control\\cartpole.py:150: UserWarning: \u001b[33mWARN: You are calling 'step()' even though this environment has already returned done = True. You should always call 'reset()' once you receive 'done = True' -- any further steps are undefined behavior.\u001b[0m\n",
      "  logger.warn(\n"
     ]
    },
    {
     "name": "stdout",
     "output_type": "stream",
     "text": [
      "30\n",
      "40\n",
      "50\n",
      "60\n",
      "70\n",
      "80\n",
      "90\n",
      "100\n",
      "110\n",
      "120\n",
      "130\n",
      "140\n",
      "150\n",
      "160\n",
      "170\n",
      "180\n",
      "190\n",
      "200\n",
      "210\n",
      "220\n",
      "230\n",
      "240\n",
      "250\n",
      "260\n",
      "270\n",
      "280\n",
      "290\n",
      "300\n",
      "310\n",
      "320\n",
      "330\n",
      "340\n",
      "350\n",
      "360\n",
      "370\n",
      "380\n",
      "390\n",
      "400\n",
      "410\n",
      "420\n",
      "430\n",
      "440\n",
      "450\n",
      "460\n",
      "470\n",
      "480\n",
      "490\n"
     ]
    }
   ],
   "source": [
    "import gym\n",
    "import time\n",
    "env = gym.make('CartPole-v0')\n",
    "env.reset()\n",
    "for i in range(500):\n",
    "    env.render()\n",
    "    env.step(env.action_space.sample()) # take a random action\n",
    "    time.sleep(0.02)\n",
    "    if i%10==0: print(i)\n",
    "env.close()"
   ]
  },
  {
   "cell_type": "code",
   "execution_count": 1,
   "id": "0571e1d5",
   "metadata": {},
   "outputs": [],
   "source": [
    "import matplotlib.pyplot as plt\n",
    "import neurolab as nl"
   ]
  },
  {
   "cell_type": "code",
   "execution_count": 5,
   "id": "8373b71e",
   "metadata": {},
   "outputs": [],
   "source": [
    "myinput = [[0,0], [0,1], [1,0], [1,1]]\n",
    "target = [[0], [0], [0], [1]]"
   ]
  },
  {
   "cell_type": "code",
   "execution_count": 6,
   "id": "aaa6225b",
   "metadata": {},
   "outputs": [],
   "source": [
    "net = nl.net.newp([[0, 1], [0, 1]], 1)"
   ]
  },
  {
   "cell_type": "code",
   "execution_count": 7,
   "id": "f5a09116",
   "metadata": {},
   "outputs": [
    {
     "name": "stdout",
     "output_type": "stream",
     "text": [
      "The goal of learning is reached\n"
     ]
    }
   ],
   "source": [
    "error_progress = net.train(myinput, target, epochs = 100, show = 10, lr = 0.1)"
   ]
  },
  {
   "cell_type": "code",
   "execution_count": 9,
   "id": "63cbe354",
   "metadata": {},
   "outputs": [
    {
     "data": {
      "image/png": "[encoded data removed]",
      "text/plain": [
       "<Figure size 432x288 with 1 Axes>"
      ]
     },
     "metadata": {
      "needs_background": "light"
     },
     "output_type": "display_data"
    }
   ],
   "source": [
    "plt.figure()\n",
    "plt.plot(error_progress)\n",
    "plt.xlabel('Epochs sayısı')\n",
    "plt.ylabel('Eğitim hatası')\n",
    "plt.grid()\n",
    "plt.show()"
   ]
  },
  {
   "cell_type": "code",
   "execution_count": 10,
   "id": "cf52af40",
   "metadata": {},
   "outputs": [],
   "source": [
    "#Tek katmanlı sinir ağı\n",
    "import numpy as np\n",
    "import matplotlib.pyplot as plt\n",
    "import neurolab as nl"
   ]
  },
  {
   "cell_type": "code",
   "execution_count": 12,
   "id": "8d5cdd11",
   "metadata": {},
   "outputs": [],
   "source": [
    "input_data = np.loadtxt('data/neural_simple.txt', delimiter = ',')"
   ]
  },
  {
   "cell_type": "code",
   "execution_count": 13,
   "id": "7205107a",
   "metadata": {},
   "outputs": [
    {
     "data": {
      "text/plain": [
       "array([[2. , 4. , 0. , 0. ],\n",
       "       [1.5, 3.9, 0. , 0. ],\n",
       "       [2.2, 4.1, 0. , 0. ],\n",
       "       [1.9, 4.7, 0. , 0. ],\n",
       "       [5.4, 2.2, 0. , 1. ],\n",
       "       [4.3, 7.1, 0. , 1. ],\n",
       "       [5.8, 4.9, 0. , 1. ],\n",
       "       [6.5, 3.2, 0. , 1. ],\n",
       "       [3. , 2. , 1. , 0. ],\n",
       "       [2.5, 0.5, 1. , 0. ],\n",
       "       [3.5, 2.1, 1. , 0. ],\n",
       "       [2.9, 0.3, 1. , 0. ],\n",
       "       [6.5, 8.3, 1. , 1. ],\n",
       "       [3.2, 6.2, 1. , 1. ],\n",
       "       [4.9, 7.8, 1. , 1. ],\n",
       "       [2.1, 4.8, 1. , 1. ]])"
      ]
     },
     "execution_count": 13,
     "metadata": {},
     "output_type": "execute_result"
    }
   ],
   "source": [
    "input_data"
   ]
  },
  {
   "cell_type": "code",
   "execution_count": 14,
   "id": "2e77c40c",
   "metadata": {},
   "outputs": [],
   "source": [
    "data = input_data[:, 0:2]\n",
    "labels = input_data[:, 2:]"
   ]
  },
  {
   "cell_type": "code",
   "execution_count": 15,
   "id": "87fc6f76",
   "metadata": {},
   "outputs": [
    {
     "data": {
      "text/plain": [
       "Text(0.5, 1.0, 'Input data')"
      ]
     },
     "execution_count": 15,
     "metadata": {},
     "output_type": "execute_result"
    },
    {
     "data": {
      "image/png": "[encoded data removed]",
      "text/plain": [
       "<Figure size 432x288 with 1 Axes>"
      ]
     },
     "metadata": {
      "needs_background": "light"
     },
     "output_type": "display_data"
    }
   ],
   "source": [
    "plt.figure()\n",
    "plt.scatter(data[:, 0], data[:, 1])\n",
    "plt.xlabel('Boyut 1')\n",
    "plt.ylabel('Boyut 2')\n",
    "plt.title('Input data')"
   ]
  },
  {
   "cell_type": "code",
   "execution_count": 16,
   "id": "22424595",
   "metadata": {},
   "outputs": [],
   "source": [
    "dim1_min, dim1_max = data[:, 0].min(), data[:, 0].max()\n",
    "dim2_min, dim2_max = data[:, 1].min(), data[:, 1].max()"
   ]
  },
  {
   "cell_type": "code",
   "execution_count": 18,
   "id": "89cf940b",
   "metadata": {},
   "outputs": [],
   "source": [
    "nn_output_layer = labels.shape[1]"
   ]
  },
  {
   "cell_type": "code",
   "execution_count": 19,
   "id": "d2b7c8c7",
   "metadata": {},
   "outputs": [
    {
     "data": {
      "text/plain": [
       "2"
      ]
     },
     "execution_count": 19,
     "metadata": {},
     "output_type": "execute_result"
    }
   ],
   "source": [
    "nn_output_layer"
   ]
  },
  {
   "cell_type": "code",
   "execution_count": 20,
   "id": "a21dd4be",
   "metadata": {},
   "outputs": [],
   "source": [
    "dim1 = [dim1_min, dim1_max]\n",
    "dim2 = [dim2_min, dim2_max]\n",
    "neural_net = nl.net.newp([dim1, dim2], nn_output_layer)"
   ]
  },
  {
   "cell_type": "code",
   "execution_count": 21,
   "id": "0b498403",
   "metadata": {},
   "outputs": [
    {
     "name": "stdout",
     "output_type": "stream",
     "text": [
      "Epoch: 20; Error: 4.0;\n",
      "Epoch: 40; Error: 4.0;\n",
      "Epoch: 60; Error: 4.0;\n",
      "Epoch: 80; Error: 4.0;\n",
      "Epoch: 100; Error: 4.0;\n",
      "Epoch: 120; Error: 4.0;\n",
      "Epoch: 140; Error: 4.0;\n",
      "Epoch: 160; Error: 4.0;\n",
      "Epoch: 180; Error: 4.0;\n",
      "Epoch: 200; Error: 4.0;\n",
      "The maximum number of train epochs is reached\n"
     ]
    }
   ],
   "source": [
    "error = neural_net.train(data, labels, epochs = 200, show = 20, lr = 0.01)"
   ]
  },
  {
   "cell_type": "code",
   "execution_count": 22,
   "id": "6295693e",
   "metadata": {},
   "outputs": [
    {
     "data": {
      "image/png": "[encoded data removed]",
      "text/plain": [
       "<Figure size 432x288 with 1 Axes>"
      ]
     },
     "metadata": {
      "needs_background": "light"
     },
     "output_type": "display_data"
    }
   ],
   "source": [
    "plt.figure()\n",
    "plt.plot(error)\n",
    "plt.xlabel('Epochs sayısı')\n",
    "plt.ylabel('Eğitim hatası')\n",
    "plt.grid()\n",
    "plt.show()"
   ]
  },
  {
   "cell_type": "code",
   "execution_count": 24,
   "id": "0621b2d0",
   "metadata": {},
   "outputs": [
    {
     "name": "stdout",
     "output_type": "stream",
     "text": [
      "\n",
      "Test Sonuçları:\n",
      "[1.5, 3.2] ---> [1. 0.]\n",
      "[3.6, 1.7] ---> [1. 0.]\n",
      "[3.6, 5.7] ---> [1. 1.]\n",
      "[1.6, 3.9] ---> [1. 0.]\n"
     ]
    }
   ],
   "source": [
    "print('\\nTest Sonuçları:')\n",
    "data_test = [[1.5, 3.2], [3.6, 1.7], [3.6, 5.7], [1.6, 3.9]] \n",
    "for item in data_test:\n",
    "    print(item, '--->', neural_net.sim([item])[0])"
   ]
  },
  {
   "cell_type": "code",
   "execution_count": null,
   "id": "83c94980",
   "metadata": {},
   "outputs": [],
   "source": []
  }
 ],
 "metadata": {
  "kernelspec": {
   "display_name": "Python 3",
   "language": "python",
   "name": "python3"
  },
  "language_info": {
   "codemirror_mode": {
    "name": "ipython",
    "version": 3
   },
   "file_extension": ".py",
   "mimetype": "text/x-python",
   "name": "python",
   "nbconvert_exporter": "python",
   "pygments_lexer": "ipython3",
   "version": "3.8.8"
  }
 },
 "nbformat": 4,
 "nbformat_minor": 5
}
