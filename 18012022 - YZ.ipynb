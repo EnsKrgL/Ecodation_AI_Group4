{
 "cells": [
  {
   "cell_type": "code",
   "execution_count": 2,
   "id": "29f7a80b",
   "metadata": {},
   "outputs": [
    {
     "data": {
      "text/plain": [
       "array([ 1,  2,  3,  4,  5,  6,  7,  8,  9, 10, 11, 12, 13, 14, 15, 16, 17,\n",
       "       18, 19])"
      ]
     },
     "execution_count": 2,
     "metadata": {},
     "output_type": "execute_result"
    }
   ],
   "source": [
    "import numpy as np\n",
    "ar = np.arange(1, 20)\n",
    "ar"
   ]
  },
  {
   "cell_type": "code",
   "execution_count": 3,
   "id": "b0483d29",
   "metadata": {},
   "outputs": [
    {
     "name": "stdout",
     "output_type": "stream",
     "text": [
      "[ 1  0  3  0  5  0  7  0  9  0 11  0 13  0 15  0 17  0 19]\n"
     ]
    }
   ],
   "source": [
    "rep1 = np.where(ar % 2 == 0, 0, ar)\n",
    "print(rep1)"
   ]
  },
  {
   "cell_type": "code",
   "execution_count": 4,
   "id": "be1eb4a4",
   "metadata": {},
   "outputs": [
    {
     "data": {
      "text/plain": [
       "array([10, 20, 30, 10, 10, 20, 20])"
      ]
     },
     "execution_count": 4,
     "metadata": {},
     "output_type": "execute_result"
    }
   ],
   "source": [
    "ar2 = np.array([10, 20, 30, 10, 10, 20, 20])\n",
    "ar2"
   ]
  },
  {
   "cell_type": "code",
   "execution_count": 6,
   "id": "264f6d1a",
   "metadata": {},
   "outputs": [
    {
     "name": "stdout",
     "output_type": "stream",
     "text": [
      "[99 20 30 99 99 20 20]\n"
     ]
    }
   ],
   "source": [
    "rep2 = np.where(ar2 == 10, 99, ar2)\n",
    "print(rep2)"
   ]
  },
  {
   "cell_type": "code",
   "execution_count": 7,
   "id": "3f995ddc",
   "metadata": {},
   "outputs": [
    {
     "data": {
      "text/plain": [
       "array([ 0, 10, 20, 30, 40, 50, 60, 70, 80, 90])"
      ]
     },
     "execution_count": 7,
     "metadata": {},
     "output_type": "execute_result"
    }
   ],
   "source": [
    "p2 = np.arange(0, 100, 10)\n",
    "p2"
   ]
  },
  {
   "cell_type": "code",
   "execution_count": 8,
   "id": "0d94f2e0",
   "metadata": {},
   "outputs": [
    {
     "data": {
      "text/plain": [
       "array([33, 10, 20, 55, 40, 99, 60, 70, 80, 90])"
      ]
     },
     "execution_count": 8,
     "metadata": {},
     "output_type": "execute_result"
    }
   ],
   "source": [
    "np.put(p2, [0, 3, 5], [33, 55, 99])\n",
    "p2"
   ]
  },
  {
   "cell_type": "code",
   "execution_count": 9,
   "id": "1b7b59ea",
   "metadata": {},
   "outputs": [
    {
     "data": {
      "text/plain": [
       "array([10., nan, 20., 30., 60., nan, 90., inf])"
      ]
     },
     "execution_count": 9,
     "metadata": {},
     "output_type": "execute_result"
    }
   ],
   "source": [
    "a = np.array([10, np.nan, 20, 30, 60, np.nan, 90, np.inf])\n",
    "a"
   ]
  },
  {
   "cell_type": "code",
   "execution_count": 10,
   "id": "2801a1b7",
   "metadata": {},
   "outputs": [
    {
     "data": {
      "text/plain": [
       "array([False,  True, False, False, False,  True, False, False])"
      ]
     },
     "execution_count": 10,
     "metadata": {},
     "output_type": "execute_result"
    }
   ],
   "source": [
    "np.isnan(a)"
   ]
  },
  {
   "cell_type": "code",
   "execution_count": 11,
   "id": "8ecb56d4",
   "metadata": {},
   "outputs": [
    {
     "data": {
      "text/plain": [
       "(array([1, 5], dtype=int64),)"
      ]
     },
     "execution_count": 11,
     "metadata": {},
     "output_type": "execute_result"
    }
   ],
   "source": [
    "np.where(np.isnan(a))"
   ]
  },
  {
   "cell_type": "code",
   "execution_count": 12,
   "id": "a7f35ee3",
   "metadata": {},
   "outputs": [
    {
     "data": {
      "text/plain": [
       "array([10., 99., 20., 30., 60., 99., 90., inf])"
      ]
     },
     "execution_count": 12,
     "metadata": {},
     "output_type": "execute_result"
    }
   ],
   "source": [
    "a[np.isnan(a)] = 99\n",
    "a"
   ]
  },
  {
   "cell_type": "code",
   "execution_count": 13,
   "id": "f9f01845",
   "metadata": {},
   "outputs": [
    {
     "data": {
      "text/plain": [
       "array([[ 1.,  2., nan,  4.],\n",
       "       [nan,  6.,  7.,  8.],\n",
       "       [10., nan, 12., 13.],\n",
       "       [14., 15., 16., 17.]])"
      ]
     },
     "execution_count": 13,
     "metadata": {},
     "output_type": "execute_result"
    }
   ],
   "source": [
    "A = np.array([[1,2,np.nan,4], [np.nan,6,7,8], [10,np.nan,12,13], [14,15,16,17]])\n",
    "A"
   ]
  },
  {
   "cell_type": "code",
   "execution_count": 14,
   "id": "6090ef95",
   "metadata": {},
   "outputs": [
    {
     "data": {
      "text/plain": [
       "array([[False, False,  True, False],\n",
       "       [ True, False, False, False],\n",
       "       [False,  True, False, False],\n",
       "       [False, False, False, False]])"
      ]
     },
     "execution_count": 14,
     "metadata": {},
     "output_type": "execute_result"
    }
   ],
   "source": [
    "np.isnan(A)"
   ]
  },
  {
   "cell_type": "code",
   "execution_count": 15,
   "id": "61d0f292",
   "metadata": {},
   "outputs": [
    {
     "data": {
      "text/plain": [
       "(array([0, 1, 2], dtype=int64), array([2, 0, 1], dtype=int64))"
      ]
     },
     "execution_count": 15,
     "metadata": {},
     "output_type": "execute_result"
    }
   ],
   "source": [
    "np.where(np.isnan(A))"
   ]
  },
  {
   "cell_type": "code",
   "execution_count": 16,
   "id": "aa571347",
   "metadata": {},
   "outputs": [
    {
     "data": {
      "text/plain": [
       "array([[0., 0., 0., 0., 0., 0., 0., 0., 0., 0.],\n",
       "       [0., 0., 0., 0., 0., 0., 0., 0., 0., 0.]])"
      ]
     },
     "execution_count": 16,
     "metadata": {},
     "output_type": "execute_result"
    }
   ],
   "source": [
    "a = np.zeros(20).reshape(2, -1)\n",
    "a"
   ]
  },
  {
   "cell_type": "code",
   "execution_count": 17,
   "id": "c53ca610",
   "metadata": {},
   "outputs": [
    {
     "data": {
      "text/plain": [
       "array([[1, 1, 1, 1, 1, 1, 1, 1, 1, 1],\n",
       "       [1, 1, 1, 1, 1, 1, 1, 1, 1, 1]])"
      ]
     },
     "execution_count": 17,
     "metadata": {},
     "output_type": "execute_result"
    }
   ],
   "source": [
    "b = np.repeat(1, 20).reshape(2, -1)\n",
    "b"
   ]
  },
  {
   "cell_type": "code",
   "execution_count": 18,
   "id": "cbab2000",
   "metadata": {},
   "outputs": [
    {
     "data": {
      "text/plain": [
       "array([[0., 0., 0., 0., 0., 0., 0., 0., 0., 0.],\n",
       "       [0., 0., 0., 0., 0., 0., 0., 0., 0., 0.],\n",
       "       [1., 1., 1., 1., 1., 1., 1., 1., 1., 1.],\n",
       "       [1., 1., 1., 1., 1., 1., 1., 1., 1., 1.]])"
      ]
     },
     "execution_count": 18,
     "metadata": {},
     "output_type": "execute_result"
    }
   ],
   "source": [
    "np.vstack([a,b])"
   ]
  },
  {
   "cell_type": "code",
   "execution_count": 19,
   "id": "750f0b58",
   "metadata": {},
   "outputs": [],
   "source": [
    "a1 = np.array([[1], [2], [3]])\n",
    "b1 = np.array([[4], [5], [6]])"
   ]
  },
  {
   "cell_type": "code",
   "execution_count": 20,
   "id": "46196dbd",
   "metadata": {},
   "outputs": [
    {
     "data": {
      "text/plain": [
       "array([[1],\n",
       "       [2],\n",
       "       [3]])"
      ]
     },
     "execution_count": 20,
     "metadata": {},
     "output_type": "execute_result"
    }
   ],
   "source": [
    "a1"
   ]
  },
  {
   "cell_type": "code",
   "execution_count": 21,
   "id": "c2b89f89",
   "metadata": {},
   "outputs": [
    {
     "data": {
      "text/plain": [
       "array([[4],\n",
       "       [5],\n",
       "       [6]])"
      ]
     },
     "execution_count": 21,
     "metadata": {},
     "output_type": "execute_result"
    }
   ],
   "source": [
    "b1"
   ]
  },
  {
   "cell_type": "code",
   "execution_count": 22,
   "id": "2e8e46dc",
   "metadata": {},
   "outputs": [
    {
     "data": {
      "text/plain": [
       "array([[1],\n",
       "       [2],\n",
       "       [3],\n",
       "       [4],\n",
       "       [5],\n",
       "       [6]])"
      ]
     },
     "execution_count": 22,
     "metadata": {},
     "output_type": "execute_result"
    }
   ],
   "source": [
    "np.vstack([a1, b1])"
   ]
  },
  {
   "cell_type": "code",
   "execution_count": 23,
   "id": "fed4d931",
   "metadata": {},
   "outputs": [
    {
     "data": {
      "text/plain": [
       "array([[0., 0., 0., 0., 0., 0., 0., 0., 0., 0., 1., 1., 1., 1., 1., 1.,\n",
       "        1., 1., 1., 1.],\n",
       "       [0., 0., 0., 0., 0., 0., 0., 0., 0., 0., 1., 1., 1., 1., 1., 1.,\n",
       "        1., 1., 1., 1.]])"
      ]
     },
     "execution_count": 23,
     "metadata": {},
     "output_type": "execute_result"
    }
   ],
   "source": [
    "np.hstack([a, b])"
   ]
  },
  {
   "cell_type": "code",
   "execution_count": 24,
   "id": "7f871273",
   "metadata": {},
   "outputs": [
    {
     "data": {
      "text/plain": [
       "array([[1, 4],\n",
       "       [2, 5],\n",
       "       [3, 6]])"
      ]
     },
     "execution_count": 24,
     "metadata": {},
     "output_type": "execute_result"
    }
   ],
   "source": [
    "np.hstack([a1, b1])"
   ]
  },
  {
   "cell_type": "code",
   "execution_count": 25,
   "id": "4861c041",
   "metadata": {},
   "outputs": [],
   "source": [
    "c1 = np.array([10,20,30,40,50,60])\n",
    "c2 = np.array([12,20,33,40,55,60])"
   ]
  },
  {
   "cell_type": "code",
   "execution_count": 27,
   "id": "19e4a1fd",
   "metadata": {},
   "outputs": [
    {
     "data": {
      "text/plain": [
       "array([20, 40, 60])"
      ]
     },
     "execution_count": 27,
     "metadata": {},
     "output_type": "execute_result"
    }
   ],
   "source": [
    "np.intersect1d(c1, c2)"
   ]
  },
  {
   "cell_type": "code",
   "execution_count": 28,
   "id": "18f65b4d",
   "metadata": {},
   "outputs": [
    {
     "data": {
      "text/plain": [
       "array([10, 30, 50])"
      ]
     },
     "execution_count": 28,
     "metadata": {},
     "output_type": "execute_result"
    }
   ],
   "source": [
    "np.setdiff1d(c1, c2)"
   ]
  },
  {
   "cell_type": "code",
   "execution_count": 29,
   "id": "cf71fe45",
   "metadata": {},
   "outputs": [
    {
     "data": {
      "text/plain": [
       "(array([1, 4], dtype=int64),)"
      ]
     },
     "execution_count": 29,
     "metadata": {},
     "output_type": "execute_result"
    }
   ],
   "source": [
    "a = np.array([1,2,3,6,8])\n",
    "b = np.array([10,2,30,60,8])\n",
    "\n",
    "np.where(a == b)"
   ]
  },
  {
   "cell_type": "code",
   "execution_count": 30,
   "id": "6a4d96cf",
   "metadata": {},
   "outputs": [
    {
     "data": {
      "text/plain": [
       "array([2, 8])"
      ]
     },
     "execution_count": 30,
     "metadata": {},
     "output_type": "execute_result"
    }
   ],
   "source": [
    "a[np.where(a == b)]"
   ]
  },
  {
   "cell_type": "code",
   "execution_count": 31,
   "id": "9fafb86a",
   "metadata": {},
   "outputs": [
    {
     "data": {
      "text/plain": [
       "array([21, 22, 23, 24, 25, 26, 27, 28, 29, 30, 31, 32, 33, 34])"
      ]
     },
     "execution_count": 31,
     "metadata": {},
     "output_type": "execute_result"
    }
   ],
   "source": [
    "a1 = np.arange(0, 60)\n",
    "a1[np.where ((a1 > 20) & (a1 < 35))]"
   ]
  },
  {
   "cell_type": "code",
   "execution_count": 32,
   "id": "0ab34198",
   "metadata": {},
   "outputs": [
    {
     "data": {
      "text/plain": [
       "array([ 0, 10, 20, 21, 22, 23, 24, 25, 26, 27, 28, 29, 30, 31, 32, 33, 34,\n",
       "       40, 50])"
      ]
     },
     "execution_count": 32,
     "metadata": {},
     "output_type": "execute_result"
    }
   ],
   "source": [
    "a1 = np.arange(0, 60)\n",
    "a1[np.where (((a1 > 20) & (a1 < 35)) | (a1 % 10 == 0))]"
   ]
  },
  {
   "cell_type": "code",
   "execution_count": 33,
   "id": "ccaf2d83",
   "metadata": {},
   "outputs": [
    {
     "data": {
      "text/plain": [
       "array([21, 22, 23, 24, 25, 26, 27, 28, 29, 30, 31, 32, 33, 34])"
      ]
     },
     "execution_count": 33,
     "metadata": {},
     "output_type": "execute_result"
    }
   ],
   "source": [
    "a1[np.where(np.logical_and(a1 > 20, a1 < 35))]"
   ]
  },
  {
   "cell_type": "code",
   "execution_count": 34,
   "id": "dec09bcd",
   "metadata": {},
   "outputs": [
    {
     "data": {
      "text/plain": [
       "array([10, 11, 12, 13, 14, 15, 16, 17, 18, 19, 20, 21, 22, 23, 24, 25, 26,\n",
       "       27, 28, 29])"
      ]
     },
     "execution_count": 34,
     "metadata": {},
     "output_type": "execute_result"
    }
   ],
   "source": [
    "a4 = np.arange(10,30)\n",
    "a4"
   ]
  },
  {
   "cell_type": "code",
   "execution_count": 42,
   "id": "ce4e081f",
   "metadata": {},
   "outputs": [
    {
     "data": {
      "text/plain": [
       "array([20, 19, 18, 17, 16, 15, 14, 13, 12, 11])"
      ]
     },
     "execution_count": 42,
     "metadata": {},
     "output_type": "execute_result"
    }
   ],
   "source": [
    "a4[10:0:-1]"
   ]
  },
  {
   "cell_type": "code",
   "execution_count": 39,
   "id": "ffc38716",
   "metadata": {},
   "outputs": [
    {
     "data": {
      "text/plain": [
       "array([29, 28, 27, 26, 25, 24, 23, 22, 21, 20, 19, 18, 17, 16, 15, 14, 13,\n",
       "       12, 11, 10])"
      ]
     },
     "execution_count": 39,
     "metadata": {},
     "output_type": "execute_result"
    }
   ],
   "source": [
    "np.flip(a4)"
   ]
  },
  {
   "cell_type": "code",
   "execution_count": 43,
   "id": "d1e09e6f",
   "metadata": {},
   "outputs": [
    {
     "data": {
      "text/plain": [
       "array([[ 3,  2,  8,  1],\n",
       "       [70, 50, 10, 67],\n",
       "       [45, 25, 75, 15],\n",
       "       [12,  9, 77,  4]])"
      ]
     },
     "execution_count": 43,
     "metadata": {},
     "output_type": "execute_result"
    }
   ],
   "source": [
    "a3 = np.array([[3,2,8,1], [70, 50, 10, 67], [45, 25, 75, 15], [12, 9, 77, 4]])\n",
    "a3"
   ]
  },
  {
   "cell_type": "code",
   "execution_count": 44,
   "id": "4d377571",
   "metadata": {},
   "outputs": [
    {
     "data": {
      "text/plain": [
       "array([[12,  9, 77,  4],\n",
       "       [45, 25, 75, 15],\n",
       "       [70, 50, 10, 67],\n",
       "       [ 3,  2,  8,  1]])"
      ]
     },
     "execution_count": 44,
     "metadata": {},
     "output_type": "execute_result"
    }
   ],
   "source": [
    "a3[::-1,]"
   ]
  },
  {
   "cell_type": "code",
   "execution_count": 45,
   "id": "ed8a1067",
   "metadata": {},
   "outputs": [
    {
     "data": {
      "text/plain": [
       "array([[ 1,  8,  2,  3],\n",
       "       [67, 10, 50, 70],\n",
       "       [15, 75, 25, 45],\n",
       "       [ 4, 77,  9, 12]])"
      ]
     },
     "execution_count": 45,
     "metadata": {},
     "output_type": "execute_result"
    }
   ],
   "source": [
    "a3[:,::-1]"
   ]
  },
  {
   "cell_type": "code",
   "execution_count": 46,
   "id": "31fa5cb6",
   "metadata": {},
   "outputs": [
    {
     "data": {
      "text/plain": [
       "array([[ 4, 77,  9, 12],\n",
       "       [15, 75, 25, 45],\n",
       "       [67, 10, 50, 70],\n",
       "       [ 1,  8,  2,  3]])"
      ]
     },
     "execution_count": 46,
     "metadata": {},
     "output_type": "execute_result"
    }
   ],
   "source": [
    "a3[::-1, ::-1]"
   ]
  },
  {
   "cell_type": "code",
   "execution_count": 47,
   "id": "959dad66",
   "metadata": {},
   "outputs": [],
   "source": [
    "#Sıralama\n",
    "a = np.array([10, 5, 2, 22, 12, 92, 17, 33])"
   ]
  },
  {
   "cell_type": "code",
   "execution_count": 48,
   "id": "1a9b3596",
   "metadata": {},
   "outputs": [
    {
     "data": {
      "text/plain": [
       "array([ 2,  5, 10, 12, 17, 22, 33, 92])"
      ]
     },
     "execution_count": 48,
     "metadata": {},
     "output_type": "execute_result"
    }
   ],
   "source": [
    "np.sort(a)"
   ]
  },
  {
   "cell_type": "code",
   "execution_count": 50,
   "id": "5801699b",
   "metadata": {},
   "outputs": [
    {
     "data": {
      "text/plain": [
       "array([[ 3,  2,  8,  1],\n",
       "       [70, 50, 10, 67],\n",
       "       [45, 25, 75, 15]])"
      ]
     },
     "execution_count": 50,
     "metadata": {},
     "output_type": "execute_result"
    }
   ],
   "source": [
    "a3 = np.array([[3,2,8,1], [70, 50, 10, 67], [45, 25, 75,15]])\n",
    "a3"
   ]
  },
  {
   "cell_type": "code",
   "execution_count": 51,
   "id": "f4a252c3",
   "metadata": {},
   "outputs": [
    {
     "data": {
      "text/plain": [
       "array([[ 1,  2,  3,  8],\n",
       "       [10, 50, 67, 70],\n",
       "       [15, 25, 45, 75]])"
      ]
     },
     "execution_count": 51,
     "metadata": {},
     "output_type": "execute_result"
    }
   ],
   "source": [
    "np.sort(a3)"
   ]
  },
  {
   "cell_type": "code",
   "execution_count": 52,
   "id": "57959fda",
   "metadata": {},
   "outputs": [
    {
     "data": {
      "text/plain": [
       "array([[ 1,  2,  3,  8],\n",
       "       [10, 50, 67, 70],\n",
       "       [15, 25, 45, 75]])"
      ]
     },
     "execution_count": 52,
     "metadata": {},
     "output_type": "execute_result"
    }
   ],
   "source": [
    "np.sort(a3, axis = 1) #satıra göre sıralama"
   ]
  },
  {
   "cell_type": "code",
   "execution_count": 53,
   "id": "dfde68d2",
   "metadata": {},
   "outputs": [
    {
     "data": {
      "text/plain": [
       "array([[ 3,  2,  8,  1],\n",
       "       [45, 25, 10, 15],\n",
       "       [70, 50, 75, 67]])"
      ]
     },
     "execution_count": 53,
     "metadata": {},
     "output_type": "execute_result"
    }
   ],
   "source": [
    "np.sort(a3, axis = 0) #sütuna göre sıralama"
   ]
  },
  {
   "cell_type": "code",
   "execution_count": 54,
   "id": "b5565ccf",
   "metadata": {},
   "outputs": [
    {
     "data": {
      "text/plain": [
       "array([92, 33, 22, 17, 12, 10,  5,  2])"
      ]
     },
     "execution_count": 54,
     "metadata": {},
     "output_type": "execute_result"
    }
   ],
   "source": [
    "#Azalan sıraya göre sıralama (büyükten küçüğe sıralama)\n",
    "b = np.sort(a)\n",
    "b = b[::-1]\n",
    "b"
   ]
  },
  {
   "cell_type": "code",
   "execution_count": 55,
   "id": "6b0065dd",
   "metadata": {},
   "outputs": [
    {
     "data": {
      "text/plain": [
       "array([92, 33, 22, 17, 12, 10,  5,  2])"
      ]
     },
     "execution_count": 55,
     "metadata": {},
     "output_type": "execute_result"
    }
   ],
   "source": [
    "c = np.sort(a)\n",
    "np.flip(c)"
   ]
  },
  {
   "cell_type": "code",
   "execution_count": 56,
   "id": "3f747c90",
   "metadata": {},
   "outputs": [
    {
     "data": {
      "text/plain": [
       "array([[24, 29, 88],\n",
       "       [ 1,  0,  8],\n",
       "       [33,  7, 99],\n",
       "       [39, 11, 98],\n",
       "       [22, 76, 87]])"
      ]
     },
     "execution_count": 56,
     "metadata": {},
     "output_type": "execute_result"
    }
   ],
   "source": [
    "#yükleme (load) ve kaydetme (save) işlemleri, loadtxt ile genfromtxt\n",
    "p4 = np.loadtxt('sample.txt', dtype = np.integer)\n",
    "p4"
   ]
  },
  {
   "cell_type": "code",
   "execution_count": 57,
   "id": "741095ba",
   "metadata": {},
   "outputs": [
    {
     "data": {
      "text/plain": [
       "array([['Dogu', 'Turkey', 'Football'],\n",
       "       ['John', 'USA', 'Hockey'],\n",
       "       ['Paul', 'Canada', 'Basketball']], dtype='<U10')"
      ]
     },
     "execution_count": 57,
     "metadata": {},
     "output_type": "execute_result"
    }
   ],
   "source": [
    "p5 = np.genfromtxt('sample0.txt', dtype='str')\n",
    "p5"
   ]
  },
  {
   "cell_type": "code",
   "execution_count": 58,
   "id": "69e61bbe",
   "metadata": {},
   "outputs": [
    {
     "data": {
      "text/plain": [
       "array(['Dogu', 'Turkey', 'Football'], dtype='<U10')"
      ]
     },
     "execution_count": 58,
     "metadata": {},
     "output_type": "execute_result"
    }
   ],
   "source": [
    "p5[0]"
   ]
  },
  {
   "cell_type": "code",
   "execution_count": 59,
   "id": "3e4ac2d1",
   "metadata": {},
   "outputs": [
    {
     "data": {
      "text/plain": [
       "array(['Dogu', 'John', 'Paul'], dtype='<U10')"
      ]
     },
     "execution_count": 59,
     "metadata": {},
     "output_type": "execute_result"
    }
   ],
   "source": [
    "p5[:,0]"
   ]
  },
  {
   "cell_type": "code",
   "execution_count": 60,
   "id": "b3e1a44b",
   "metadata": {},
   "outputs": [
    {
     "data": {
      "text/plain": [
       "array([[  0,   1,   2,   3,   4,   5,   6,   7,   8,   9,  10],\n",
       "       [ 11,  12,  13,  14,  15,  16,  17,  18,  19,  20,  21],\n",
       "       [ 22,  23,  24,  25,  26,  27,  28,  29,  30,  31,  32],\n",
       "       [ 33,  34,  35,  36,  37,  38,  39,  40,  41,  42,  43],\n",
       "       [ 44,  45,  46,  47,  48,  49,  50,  51,  52,  53,  54],\n",
       "       [ 55,  56,  57,  58,  59,  60,  61,  62,  63,  64,  65],\n",
       "       [ 66,  67,  68,  69,  70,  71,  72,  73,  74,  75,  76],\n",
       "       [ 77,  78,  79,  80,  81,  82,  83,  84,  85,  86,  87],\n",
       "       [ 88,  89,  90,  91,  92,  93,  94,  95,  96,  97,  98],\n",
       "       [ 99, 100, 101, 102, 103, 104, 105, 106, 107, 108, 109],\n",
       "       [110, 111, 112, 113, 114, 115, 116, 117, 118, 119, 120]])"
      ]
     },
     "execution_count": 60,
     "metadata": {},
     "output_type": "execute_result"
    }
   ],
   "source": [
    "p8 = np.arange(0,121).reshape(11,11)\n",
    "p8"
   ]
  },
  {
   "cell_type": "code",
   "execution_count": 61,
   "id": "badd3463",
   "metadata": {},
   "outputs": [],
   "source": [
    "np.save('18012022.npy', p8)"
   ]
  },
  {
   "cell_type": "code",
   "execution_count": 62,
   "id": "d646fbf2",
   "metadata": {},
   "outputs": [
    {
     "data": {
      "text/plain": [
       "array([[  0,   1,   2,   3,   4,   5,   6,   7,   8,   9,  10],\n",
       "       [ 11,  12,  13,  14,  15,  16,  17,  18,  19,  20,  21],\n",
       "       [ 22,  23,  24,  25,  26,  27,  28,  29,  30,  31,  32],\n",
       "       [ 33,  34,  35,  36,  37,  38,  39,  40,  41,  42,  43],\n",
       "       [ 44,  45,  46,  47,  48,  49,  50,  51,  52,  53,  54],\n",
       "       [ 55,  56,  57,  58,  59,  60,  61,  62,  63,  64,  65],\n",
       "       [ 66,  67,  68,  69,  70,  71,  72,  73,  74,  75,  76],\n",
       "       [ 77,  78,  79,  80,  81,  82,  83,  84,  85,  86,  87],\n",
       "       [ 88,  89,  90,  91,  92,  93,  94,  95,  96,  97,  98],\n",
       "       [ 99, 100, 101, 102, 103, 104, 105, 106, 107, 108, 109],\n",
       "       [110, 111, 112, 113, 114, 115, 116, 117, 118, 119, 120]])"
      ]
     },
     "execution_count": 62,
     "metadata": {},
     "output_type": "execute_result"
    }
   ],
   "source": [
    "p9 = np.load('18012022.npy')\n",
    "p9"
   ]
  },
  {
   "cell_type": "code",
   "execution_count": 63,
   "id": "8a30ac3a",
   "metadata": {},
   "outputs": [
    {
     "data": {
      "text/plain": [
       "array([[     0,      1,      2, ...,    997,    998,    999],\n",
       "       [  1000,   1001,   1002, ...,   1997,   1998,   1999],\n",
       "       [  2000,   2001,   2002, ...,   2997,   2998,   2999],\n",
       "       ...,\n",
       "       [997000, 997001, 997002, ..., 997997, 997998, 997999],\n",
       "       [998000, 998001, 998002, ..., 998997, 998998, 998999],\n",
       "       [999000, 999001, 999002, ..., 999997, 999998, 999999]])"
      ]
     },
     "execution_count": 63,
     "metadata": {},
     "output_type": "execute_result"
    }
   ],
   "source": [
    "p11 = np.arange(0, 1000000).reshape(1000,1000)\n",
    "p11"
   ]
  },
  {
   "cell_type": "code",
   "execution_count": 64,
   "id": "47fb805a",
   "metadata": {},
   "outputs": [],
   "source": [
    "np.savez_compressed('test18012022.npz', p11)"
   ]
  },
  {
   "cell_type": "code",
   "execution_count": 65,
   "id": "9b1cf4d3",
   "metadata": {},
   "outputs": [],
   "source": [
    "np.save('test18012022.npy', p11)"
   ]
  },
  {
   "cell_type": "code",
   "execution_count": 66,
   "id": "277b5b38",
   "metadata": {},
   "outputs": [
    {
     "name": "stdout",
     "output_type": "stream",
     "text": [
      "V3 = [4 6]\n"
     ]
    }
   ],
   "source": [
    "#vektör toplama\n",
    "v1 = np.array([1,2])\n",
    "v2 = np.array([3,4])\n",
    "v3 = v1 + v2\n",
    "print('V3 =', v3)"
   ]
  },
  {
   "cell_type": "code",
   "execution_count": 67,
   "id": "38f3cbee",
   "metadata": {},
   "outputs": [
    {
     "name": "stdout",
     "output_type": "stream",
     "text": [
      "V3 = [4 6]\n"
     ]
    }
   ],
   "source": [
    "v1 = np.array([1,2])\n",
    "v2 = np.array([3,4])\n",
    "v3 = np.add(v1, v2)\n",
    "print('V3 =', v3)"
   ]
  },
  {
   "cell_type": "code",
   "execution_count": 69,
   "id": "72183bdb",
   "metadata": {},
   "outputs": [
    {
     "name": "stdout",
     "output_type": "stream",
     "text": [
      "[20 42 72]\n"
     ]
    }
   ],
   "source": [
    "a1 = np.array([5,6,8])\n",
    "a2 = np.array([4,7,9])\n",
    "print(np.multiply(a1,a2))"
   ]
  },
  {
   "cell_type": "code",
   "execution_count": 70,
   "id": "e6a66ec0",
   "metadata": {},
   "outputs": [
    {
     "name": "stdout",
     "output_type": "stream",
     "text": [
      "Dot product -  32\n",
      "np.dot kullanarak Dot Product -  32\n",
      "np.inner kullanarak Dot Product -  32\n",
      "np.multiply & sum kullanarak Dot Product -  32\n",
      "np.matmul kullanarak Dot Product -  32\n",
      "döngü kullanarak Dot Product -  32\n"
     ]
    }
   ],
   "source": [
    "a1 = np.array([1,2,3])\n",
    "a2 = np.array([4,5,6])\n",
    "\n",
    "dotp = a1@a2\n",
    "print(\"Dot product - \", dotp)\n",
    "\n",
    "dotp = np.dot(a1, a2)\n",
    "print(\"np.dot kullanarak Dot Product - \", dotp)\n",
    "\n",
    "dotp = np.inner(a1, a2)\n",
    "print(\"np.inner kullanarak Dot Product - \", dotp)\n",
    "\n",
    "dotp = sum(np.multiply(a1,a2))\n",
    "print(\"np.multiply & sum kullanarak Dot Product - \", dotp)\n",
    "\n",
    "dotp = np.matmul(a1, a2)\n",
    "print(\"np.matmul kullanarak Dot Product - \", dotp)\n",
    "\n",
    "dotp = 0\n",
    "for i in range(len(a1)):\n",
    "    dotp = dotp + a1[i]*a2[i]\n",
    "print(\"döngü kullanarak Dot Product - \", dotp)"
   ]
  },
  {
   "cell_type": "code",
   "execution_count": 71,
   "id": "fcc48bd6",
   "metadata": {},
   "outputs": [
    {
     "data": {
      "text/plain": [
       "9.539392014169456"
      ]
     },
     "execution_count": 71,
     "metadata": {},
     "output_type": "execute_result"
    }
   ],
   "source": [
    "v3 = np.array([1,2,3,4,5,6])\n",
    "length = np.sqrt(np.dot(v3,v3))\n",
    "length"
   ]
  },
  {
   "cell_type": "code",
   "execution_count": 72,
   "id": "cf925952",
   "metadata": {},
   "outputs": [
    {
     "data": {
      "text/plain": [
       "9.539392014169456"
      ]
     },
     "execution_count": 72,
     "metadata": {},
     "output_type": "execute_result"
    }
   ],
   "source": [
    "v3 = np.array([1,2,3,4,5,6])\n",
    "length = np.sqrt(sum(np.multiply(v3,v3)))\n",
    "length"
   ]
  },
  {
   "cell_type": "code",
   "execution_count": 73,
   "id": "6d61b839",
   "metadata": {},
   "outputs": [
    {
     "data": {
      "text/plain": [
       "9.539392014169456"
      ]
     },
     "execution_count": 73,
     "metadata": {},
     "output_type": "execute_result"
    }
   ],
   "source": [
    "v3 = np.array([1,2,3,4,5,6])\n",
    "length = np.sqrt(np.matmul(v3,v3))\n",
    "length"
   ]
  },
  {
   "cell_type": "code",
   "execution_count": 74,
   "id": "85311525",
   "metadata": {},
   "outputs": [
    {
     "data": {
      "text/plain": [
       "(3.605551275463989, array([0.5547002 , 0.83205029]))"
      ]
     },
     "execution_count": 74,
     "metadata": {},
     "output_type": "execute_result"
    }
   ],
   "source": [
    "#Normalizasyon\n",
    "v1 = [2,3]\n",
    "length_v1 = np.sqrt(np.dot(v1,v1))\n",
    "norm_v1 = v1/length_v1\n",
    "length_v1, norm_v1"
   ]
  },
  {
   "cell_type": "code",
   "execution_count": 75,
   "id": "212c2cc4",
   "metadata": {},
   "outputs": [
    {
     "data": {
      "text/plain": [
       "array([0.5547002 , 0.83205029])"
      ]
     },
     "execution_count": 75,
     "metadata": {},
     "output_type": "execute_result"
    }
   ],
   "source": [
    "v1 = [2,3]\n",
    "norm_v1 = v1/np.linalg.norm(v1)\n",
    "norm_v1"
   ]
  },
  {
   "cell_type": "code",
   "execution_count": 76,
   "id": "ef66f726",
   "metadata": {},
   "outputs": [
    {
     "name": "stdout",
     "output_type": "stream",
     "text": [
      "\n",
      "Vektör Cross Product ==> \n",
      " [-3  6 -3]\n"
     ]
    }
   ],
   "source": [
    "v1 = np.array([1,2,3])\n",
    "v2 = np.array([4,5,6])\n",
    "print(\"\\nVektör Cross Product ==> \\n\", np.cross(v1,v2))"
   ]
  },
  {
   "cell_type": "code",
   "execution_count": 77,
   "id": "4b3a8946",
   "metadata": {},
   "outputs": [
    {
     "data": {
      "text/plain": [
       "array([[1., 0., 0., 0., 0., 0., 0., 0., 0.],\n",
       "       [0., 1., 0., 0., 0., 0., 0., 0., 0.],\n",
       "       [0., 0., 1., 0., 0., 0., 0., 0., 0.],\n",
       "       [0., 0., 0., 1., 0., 0., 0., 0., 0.],\n",
       "       [0., 0., 0., 0., 1., 0., 0., 0., 0.],\n",
       "       [0., 0., 0., 0., 0., 1., 0., 0., 0.],\n",
       "       [0., 0., 0., 0., 0., 0., 1., 0., 0.],\n",
       "       [0., 0., 0., 0., 0., 0., 0., 1., 0.],\n",
       "       [0., 0., 0., 0., 0., 0., 0., 0., 1.]])"
      ]
     },
     "execution_count": 77,
     "metadata": {},
     "output_type": "execute_result"
    }
   ],
   "source": [
    "I = np.eye(9)\n",
    "I"
   ]
  },
  {
   "cell_type": "code",
   "execution_count": 78,
   "id": "060fae03",
   "metadata": {},
   "outputs": [
    {
     "data": {
      "text/plain": [
       "array([[1, 0, 0, 0, 0, 0, 0, 0],\n",
       "       [0, 2, 0, 0, 0, 0, 0, 0],\n",
       "       [0, 0, 3, 0, 0, 0, 0, 0],\n",
       "       [0, 0, 0, 4, 0, 0, 0, 0],\n",
       "       [0, 0, 0, 0, 5, 0, 0, 0],\n",
       "       [0, 0, 0, 0, 0, 6, 0, 0],\n",
       "       [0, 0, 0, 0, 0, 0, 7, 0],\n",
       "       [0, 0, 0, 0, 0, 0, 0, 8]])"
      ]
     },
     "execution_count": 78,
     "metadata": {},
     "output_type": "execute_result"
    }
   ],
   "source": [
    "D = np.diag([1,2,3,4,5,6,7,8])\n",
    "D"
   ]
  },
  {
   "cell_type": "code",
   "execution_count": 79,
   "id": "d37cc843",
   "metadata": {},
   "outputs": [
    {
     "name": "stdout",
     "output_type": "stream",
     "text": [
      "[[ 0.47319625  0.64682756 -1.76576466  1.16274986 -0.10486185]\n",
      " [ 0.91274386 -1.02366792  0.4705799   0.28760839 -1.92733616]\n",
      " [ 0.39680583 -1.34078097 -0.07337397  1.51241921 -1.09599987]\n",
      " [-0.08516508 -1.26056588  1.91709455 -0.19335335  0.28284666]\n",
      " [-0.33216104 -0.82802135  0.66551242 -0.25451644  0.55293108]]\n",
      "\n",
      "\n",
      "[[ 0.47319625  0.          0.          0.          0.        ]\n",
      " [ 0.91274386 -1.02366792  0.          0.          0.        ]\n",
      " [ 0.39680583 -1.34078097 -0.07337397  0.          0.        ]\n",
      " [-0.08516508 -1.26056588  1.91709455 -0.19335335  0.        ]\n",
      " [-0.33216104 -0.82802135  0.66551242 -0.25451644  0.55293108]]\n",
      "\n",
      "\n",
      "[[ 0.47319625  0.64682756 -1.76576466  1.16274986 -0.10486185]\n",
      " [ 0.         -1.02366792  0.4705799   0.28760839 -1.92733616]\n",
      " [ 0.          0.         -0.07337397  1.51241921 -1.09599987]\n",
      " [ 0.          0.          0.         -0.19335335  0.28284666]\n",
      " [ 0.          0.          0.          0.          0.55293108]]\n"
     ]
    }
   ],
   "source": [
    "M = np.random.randn(5,5)\n",
    "U = np.triu(M) #upper triangle\n",
    "L = np.tril(M) #lower traingle\n",
    "\n",
    "print(M)\n",
    "print(\"\\n\")\n",
    "\n",
    "print(L)\n",
    "print(\"\\n\")\n",
    "\n",
    "print(U)"
   ]
  },
  {
   "cell_type": "code",
   "execution_count": 80,
   "id": "77389bb4",
   "metadata": {},
   "outputs": [
    {
     "data": {
      "text/plain": [
       "array([[ 1.,  2., nan,  4.],\n",
       "       [nan,  6.,  7.,  8.],\n",
       "       [10., nan, 12., 13.],\n",
       "       [14., 15., 16., 17.]])"
      ]
     },
     "execution_count": 80,
     "metadata": {},
     "output_type": "execute_result"
    }
   ],
   "source": [
    "A"
   ]
  },
  {
   "cell_type": "code",
   "execution_count": 81,
   "id": "9dc99c14",
   "metadata": {},
   "outputs": [
    {
     "data": {
      "text/plain": [
       "array([ 1.,  2., nan,  4., nan,  6.,  7.,  8., 10., nan, 12., 13., 14.,\n",
       "       15., 16., 17.])"
      ]
     },
     "execution_count": 81,
     "metadata": {},
     "output_type": "execute_result"
    }
   ],
   "source": [
    "A.flatten()"
   ]
  },
  {
   "cell_type": "code",
   "execution_count": 82,
   "id": "4dd7d178",
   "metadata": {},
   "outputs": [
    {
     "data": {
      "text/plain": [
       "array([ 1.,  2., nan,  4., nan,  6.,  7.,  8., 10., nan, 12., 13., 14.,\n",
       "       15., 16., 17.])"
      ]
     },
     "execution_count": 82,
     "metadata": {},
     "output_type": "execute_result"
    }
   ],
   "source": [
    "A.ravel()"
   ]
  },
  {
   "cell_type": "code",
   "execution_count": 83,
   "id": "64c52ccf",
   "metadata": {},
   "outputs": [
    {
     "name": "stdout",
     "output_type": "stream",
     "text": [
      "\n",
      " Matrix(M) --> \n",
      " [[ 1  2  3]\n",
      " [ 4 -3  6]\n",
      " [ 7  8  0]]\n",
      "\n",
      " Transpose(M) --> \n",
      " [[ 1  4  7]\n",
      " [ 2 -3  8]\n",
      " [ 3  6  0]]\n"
     ]
    }
   ],
   "source": [
    "M = np.array([[1,2,3], [4,-3,6], [7,8,0]])\n",
    "\n",
    "print(\"\\n Matrix(M) --> \\n\", M)\n",
    "\n",
    "print(\"\\n Transpose(M) --> \\n\", np.transpose(M))"
   ]
  },
  {
   "cell_type": "code",
   "execution_count": 84,
   "id": "0192270b",
   "metadata": {},
   "outputs": [
    {
     "name": "stdout",
     "output_type": "stream",
     "text": [
      "\n",
      " Transpose(M) --> \n",
      " [[ 1  4  7]\n",
      " [ 2 -3  8]\n",
      " [ 3  6  0]]\n"
     ]
    }
   ],
   "source": [
    "print(\"\\n Transpose(M) --> \\n\", M.T)"
   ]
  },
  {
   "cell_type": "code",
   "execution_count": 87,
   "id": "dddcc5eb",
   "metadata": {},
   "outputs": [
    {
     "name": "stdout",
     "output_type": "stream",
     "text": [
      "\n",
      "Rank(M) -->  3\n"
     ]
    }
   ],
   "source": [
    "print(\"\\nRank(M) --> \", np.linalg.matrix_rank(M))"
   ]
  },
  {
   "cell_type": "code",
   "execution_count": 88,
   "id": "eaf8ed6a",
   "metadata": {},
   "outputs": [
    {
     "name": "stdout",
     "output_type": "stream",
     "text": [
      "\n",
      "Inverse(M) -->  [[-0.24615385  0.12307692  0.10769231]\n",
      " [ 0.21538462 -0.10769231  0.03076923]\n",
      " [ 0.27179487  0.03076923 -0.05641026]]\n"
     ]
    }
   ],
   "source": [
    "print(\"\\nInverse(M) --> \", np.linalg.inv(M))"
   ]
  },
  {
   "cell_type": "code",
   "execution_count": 90,
   "id": "a2fcbb69",
   "metadata": {},
   "outputs": [
    {
     "data": {
      "text/plain": [
       "array([[[  1,   2,   3],\n",
       "        [  4,   5,   6],\n",
       "        [  7,   8,   9]],\n",
       "\n",
       "       [[ 10,  20,  30],\n",
       "        [ 40,  50,  60],\n",
       "        [ 70,  80,  90]],\n",
       "\n",
       "       [[100, 200, 300],\n",
       "        [400, 500, 600],\n",
       "        [700, 800, 900]]])"
      ]
     },
     "execution_count": 90,
     "metadata": {},
     "output_type": "execute_result"
    }
   ],
   "source": [
    "T1 = np.array([\n",
    "    [[1,2,3], [4,5,6], [7,8,9]],\n",
    "    [[10,20,30], [40,50,60], [70, 80, 90]],\n",
    "    [[100,200,300], [400,500,600], [700,800,900]],\n",
    "])\n",
    "\n",
    "T1"
   ]
  },
  {
   "cell_type": "code",
   "execution_count": null,
   "id": "8b4cf791",
   "metadata": {},
   "outputs": [],
   "source": []
  }
 ],
 "metadata": {
  "kernelspec": {
   "display_name": "Python 3",
   "language": "python",
   "name": "python3"
  },
  "language_info": {
   "codemirror_mode": {
    "name": "ipython",
    "version": 3
   },
   "file_extension": ".py",
   "mimetype": "text/x-python",
   "name": "python",
   "nbconvert_exporter": "python",
   "pygments_lexer": "ipython3",
   "version": "3.8.8"
  }
 },
 "nbformat": 4,
 "nbformat_minor": 5
}
