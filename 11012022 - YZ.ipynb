{
 "cells": [
  {
   "cell_type": "code",
   "execution_count": null,
   "id": "7e45dae0",
   "metadata": {},
   "outputs": [],
   "source": [
    "a = 7\n",
    "b = 6\n",
    "\n",
    "print(not a == 7 and b == 7) # False\n",
    "print(a == 7 or b == 7) # True\n",
    "print(a == 7 or b == 6) # True\n",
    "print(not (a == 7 and b == 6)) # False\n",
    "print(not a == 7 and b == 6) # False"
   ]
  },
  {
   "cell_type": "code",
   "execution_count": null,
   "id": "1bec7381",
   "metadata": {},
   "outputs": [],
   "source": [
    "print('a > b is', a > b)\n",
    "print('a < b is', a < b)\n",
    "print('a == b is', a == b)\n",
    "print('a != b is', a != b)\n",
    "print('a >= b is', a >= b)\n",
    "print('a <= b is', a <= b)"
   ]
  },
  {
   "cell_type": "code",
   "execution_count": null,
   "id": "860307bb",
   "metadata": {},
   "outputs": [],
   "source": [
    "username = input(\"What is your username? \")\n",
    "password = input(\"What is the password? \")\n",
    "\n",
    "if username == \"BIL100E\" and password == \"Python\":\n",
    "    print(\"Welcome BIL100E Python!\")\n",
    "    \n",
    "elif username == \"Programming\" and password == \"Languages\":\n",
    "    print(\"Welcome Programming Languages!\")\n",
    "    \n",
    "else:\n",
    "    print(\"Cannot recognize who you are!!!\")"
   ]
  },
  {
   "cell_type": "code",
   "execution_count": null,
   "id": "2f76568a",
   "metadata": {},
   "outputs": [],
   "source": [
    "sayi = int(input(\"Bir sayı giriniz: \"))\n",
    "\n",
    "if sayi % 2 == 0:\n",
    "    print(\"Girilen çift sayıdır\")\n",
    "else:\n",
    "    print(\"Girilen tek sayıdır\")"
   ]
  },
  {
   "cell_type": "code",
   "execution_count": null,
   "id": "936ef646",
   "metadata": {},
   "outputs": [],
   "source": [
    "v = float(input(\"Arasınav notunuzu giriniz: \"))\n",
    "f = float(input(\"Final notunuzu giriniz: \"))\n",
    "\n",
    "h = 0.4 * v + 0.6 * f\n",
    "\n",
    "if 90 <= h <= 100: \n",
    "    l = \"AA\"\n",
    "elif 80 <= h <= 90:\n",
    "    l = \"BA\"\n",
    "elif 70 <= h <= 80:\n",
    "    l = \"BB\"\n",
    "elif 60 <= h <= 70:\n",
    "    l = \"CB\"\n",
    "elif 50 <= h <= 60:\n",
    "    l = \"CC\"\n",
    "elif 40 <= h <= 50:\n",
    "    l = \"DC\"\n",
    "elif 30 <= h <= 40:\n",
    "    l = \"DD\"\n",
    "else:\n",
    "    l = \"FF\"\n",
    "    \n",
    "print(\"\\nYour grade is\", h, \"\\nYour letter grade is\", l)"
   ]
  },
  {
   "cell_type": "code",
   "execution_count": null,
   "id": "df893498",
   "metadata": {},
   "outputs": [],
   "source": [
    "while True:\n",
    "    print(\"Hello Python\")"
   ]
  },
  {
   "cell_type": "code",
   "execution_count": null,
   "id": "6cab9775",
   "metadata": {},
   "outputs": [],
   "source": [
    "count = 0\n",
    "while count < 9:\n",
    "    print(\"The count is:\", count) \n",
    "    count = count + 1\n",
    "print(\"Good bye!\")"
   ]
  },
  {
   "cell_type": "code",
   "execution_count": null,
   "id": "6d6f9074",
   "metadata": {},
   "outputs": [],
   "source": [
    "mycount = 0\n",
    "while mycount < 5:\n",
    "    print(mycount, \"is less than 5\")\n",
    "    mycount = mycount + 1\n",
    "else:\n",
    "    print(mycount, \"is not less than 5\")"
   ]
  },
  {
   "cell_type": "code",
   "execution_count": null,
   "id": "f62916d8",
   "metadata": {},
   "outputs": [],
   "source": [
    "for letter in 'Python':\n",
    "    print('Current letter :', letter)"
   ]
  },
  {
   "cell_type": "code",
   "execution_count": null,
   "id": "1ffec62d",
   "metadata": {},
   "outputs": [],
   "source": [
    "fruits = ['banana', 'apple', 'mango']\n",
    "for fruit in fruits:\n",
    "    print('Current fruit :', fruit)\n",
    "print(\"Goodbye\")"
   ]
  },
  {
   "cell_type": "code",
   "execution_count": null,
   "id": "c26465ed",
   "metadata": {},
   "outputs": [],
   "source": [
    "for x in range(1,11): #in, not in \n",
    "    for y in range(1,11):\n",
    "        print('%d * %d = %d' % (x, y, x*y))"
   ]
  },
  {
   "cell_type": "code",
   "execution_count": null,
   "id": "a78f1d4e",
   "metadata": {},
   "outputs": [],
   "source": [
    "x = -20\n",
    "y = 20\n",
    "while x <= y:\n",
    "    print(\"X is now: \", x)\n",
    "    x = x + 1\n",
    "    while x < 0:\n",
    "        print(\"X is negative\")\n",
    "        x = x + 1"
   ]
  },
  {
   "cell_type": "code",
   "execution_count": null,
   "id": "072c5833",
   "metadata": {},
   "outputs": [],
   "source": [
    "#Fonksiyonlar\n",
    "def myprint(s1):\n",
    "    print(s1)\n",
    "\n",
    "myprint(\"Barcelona\")\n",
    "myprint(\"Real Madrid\")"
   ]
  },
  {
   "cell_type": "code",
   "execution_count": null,
   "id": "dc88b6b6",
   "metadata": {},
   "outputs": [],
   "source": [
    "def Fun(x, y):\n",
    "    result = x + y\n",
    "    return result\n",
    "\n",
    "print(Fun(5, 4))"
   ]
  },
  {
   "cell_type": "code",
   "execution_count": 4,
   "id": "45d76739",
   "metadata": {},
   "outputs": [
    {
     "name": "stdout",
     "output_type": "stream",
     "text": [
      "İlk değerler :  [1, 2, 3, 4]\n",
      "İkincil değerler :  [10, 20, 30]\n"
     ]
    },
    {
     "data": {
      "text/plain": [
       "[10, 20, 30]"
      ]
     },
     "execution_count": 4,
     "metadata": {},
     "output_type": "execute_result"
    }
   ],
   "source": [
    "def ChangeRefer(mylist):\n",
    "    mylist = [10,20,30]\n",
    "    print(\"İkincil değerler : \", mylist)\n",
    "    return mylist\n",
    "    \n",
    "mylist = [1,2,3,4]\n",
    "print(\"İlk değerler : \", mylist)\n",
    "ChangeRefer(mylist)"
   ]
  },
  {
   "cell_type": "code",
   "execution_count": 5,
   "id": "440cf035",
   "metadata": {},
   "outputs": [
    {
     "name": "stdout",
     "output_type": "stream",
     "text": [
      "Name:  Tasmanian Devil\n",
      "Age:  19\n",
      "Name:  Bugs Bunny\n",
      "Age:  23\n"
     ]
    }
   ],
   "source": [
    "def printinfo(name, age = 23):\n",
    "    print(\"Name: \", name)\n",
    "    print(\"Age: \", age)\n",
    "    \n",
    "printinfo(age = 19, name= \"Tasmanian Devil\")\n",
    "printinfo(name = \"Bugs Bunny\")"
   ]
  },
  {
   "cell_type": "code",
   "execution_count": 6,
   "id": "1846d668",
   "metadata": {},
   "outputs": [
    {
     "name": "stdout",
     "output_type": "stream",
     "text": [
      "32\n",
      "8\n"
     ]
    }
   ],
   "source": [
    "from random import randint\n",
    "print(randint(0, 100))\n",
    "\n",
    "import random \n",
    "print(random.randint(0, 100))"
   ]
  },
  {
   "cell_type": "code",
   "execution_count": 7,
   "id": "f406dbba",
   "metadata": {},
   "outputs": [
    {
     "name": "stdout",
     "output_type": "stream",
     "text": [
      "randrange(100, 1000, 2) :  124\n",
      "randrange(100, 1000, 3) :  259\n"
     ]
    }
   ],
   "source": [
    "#randrange function\n",
    "import random\n",
    "print(\"randrange(100, 1000, 2) : \", random.randrange(100, 1000, 2))\n",
    "print(\"randrange(100, 1000, 3) : \", random.randrange(100, 1000, 3))"
   ]
  },
  {
   "cell_type": "code",
   "execution_count": 15,
   "id": "e702d1eb",
   "metadata": {},
   "outputs": [
    {
     "name": "stdout",
     "output_type": "stream",
     "text": [
      "Random Float uniform(18, 81) :  54.343\n",
      "Random Float uniform(19, 38) :  31.909576528288028\n",
      "Rounded :  54.3427\n",
      "Rounded 2 : 31.91\n"
     ]
    }
   ],
   "source": [
    "num1 = random.uniform(18, 81)\n",
    "num2 = random.uniform(19, 38)\n",
    "print(\"Random Float uniform(18, 81) : \", \"%.3f\" % (num1))\n",
    "print(\"Random Float uniform(19, 38) : \", num2)\n",
    "\n",
    "print(\"Rounded : \", round(num1, 4))\n",
    "print(\"Rounded 2 :\", round(num2, 3))"
   ]
  },
  {
   "cell_type": "code",
   "execution_count": 16,
   "id": "502afa0e",
   "metadata": {},
   "outputs": [
    {
     "name": "stdout",
     "output_type": "stream",
     "text": [
      "['C:\\\\Users\\\\ITU', 'C:\\\\Users\\\\ITU\\\\anaconda3\\\\python38.zip', 'C:\\\\Users\\\\ITU\\\\anaconda3\\\\DLLs', 'C:\\\\Users\\\\ITU\\\\anaconda3\\\\lib', 'C:\\\\Users\\\\ITU\\\\anaconda3', '', 'C:\\\\Users\\\\ITU\\\\anaconda3\\\\lib\\\\site-packages', 'C:\\\\Users\\\\ITU\\\\anaconda3\\\\lib\\\\site-packages\\\\locket-0.2.1-py3.8.egg', 'C:\\\\Users\\\\ITU\\\\anaconda3\\\\lib\\\\site-packages\\\\win32', 'C:\\\\Users\\\\ITU\\\\anaconda3\\\\lib\\\\site-packages\\\\win32\\\\lib', 'C:\\\\Users\\\\ITU\\\\anaconda3\\\\lib\\\\site-packages\\\\Pythonwin', 'C:\\\\Users\\\\ITU\\\\anaconda3\\\\lib\\\\site-packages\\\\IPython\\\\extensions', 'C:\\\\Users\\\\ITU\\\\.ipython']\n"
     ]
    }
   ],
   "source": [
    "import sys\n",
    "print(sys.path)"
   ]
  },
  {
   "cell_type": "code",
   "execution_count": 17,
   "id": "2727a2d0",
   "metadata": {},
   "outputs": [
    {
     "name": "stdout",
     "output_type": "stream",
     "text": [
      "3.141592653589793\n"
     ]
    }
   ],
   "source": [
    "from math import pi\n",
    "print(pi)"
   ]
  },
  {
   "cell_type": "code",
   "execution_count": 19,
   "id": "f7ce42d1",
   "metadata": {},
   "outputs": [
    {
     "name": "stdout",
     "output_type": "stream",
     "text": [
      "28.274333882308138\n"
     ]
    }
   ],
   "source": [
    "import math\n",
    "def area_of_circle(r):\n",
    "    a = r**2 * math.pi\n",
    "    return a\n",
    "\n",
    "print(area_of_circle(3))"
   ]
  },
  {
   "cell_type": "code",
   "execution_count": null,
   "id": "ffd95ac6",
   "metadata": {},
   "outputs": [],
   "source": []
  }
 ],
 "metadata": {
  "kernelspec": {
   "display_name": "Python 3",
   "language": "python",
   "name": "python3"
  },
  "language_info": {
   "codemirror_mode": {
    "name": "ipython",
    "version": 3
   },
   "file_extension": ".py",
   "mimetype": "text/x-python",
   "name": "python",
   "nbconvert_exporter": "python",
   "pygments_lexer": "ipython3",
   "version": "3.8.8"
  }
 },
 "nbformat": 4,
 "nbformat_minor": 5
}
