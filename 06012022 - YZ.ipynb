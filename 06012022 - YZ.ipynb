{
 "cells": [
  {
   "cell_type": "code",
   "execution_count": 1,
   "id": "890ca24b",
   "metadata": {},
   "outputs": [
    {
     "name": "stdout",
     "output_type": "stream",
     "text": [
      "100 1000.0 Hello Python\n"
     ]
    }
   ],
   "source": [
    "counter = 100 \n",
    "distance = 1000.0\n",
    "name = \"Hello Python\" \n",
    "\n",
    "print(counter, distance, name)"
   ]
  },
  {
   "cell_type": "code",
   "execution_count": 2,
   "id": "96c1151e",
   "metadata": {},
   "outputs": [
    {
     "name": "stdout",
     "output_type": "stream",
     "text": [
      "Hello AI Group 4\n",
      "H\n",
      "llo\n",
      "llo AI Group 4\n",
      "Hello AI Group 4Hello AI Group 4\n",
      "Hello AI Group 4 TEST\n"
     ]
    }
   ],
   "source": [
    "str1 = \"Hello AI Group 4\" \n",
    "\n",
    "print(str1)\n",
    "print(str1[0]) #zero-based indexing\n",
    "print(str1[2:5])\n",
    "print(str1[2:])\n",
    "print(str1 * 2)\n",
    "print(str1 + \" TEST\")"
   ]
  },
  {
   "cell_type": "code",
   "execution_count": 3,
   "id": "c6cea669",
   "metadata": {},
   "outputs": [
    {
     "name": "stdout",
     "output_type": "stream",
     "text": [
      "['abcd', 786, 2.23, 'Bil', 70.2]\n",
      "abcd\n",
      "[786, 2.23]\n",
      "[2.23, 'Bil', 70.2]\n",
      "[123, 'Bil', 123, 'Bil']\n",
      "['abcd', 786, 2.23, 'Bil', 70.2, 123, 'Bil']\n"
     ]
    }
   ],
   "source": [
    "lst1 = ['abcd', 786, 2.23, 'Bil', 70.2]\n",
    "minilist = [123, 'Bil']\n",
    "\n",
    "print(lst1)\n",
    "print(lst1[0]) #zero-based indexing\n",
    "print(lst1[1:3])\n",
    "print(lst1[2:])\n",
    "print(minilist * 2)\n",
    "print(lst1 + minilist)"
   ]
  },
  {
   "cell_type": "code",
   "execution_count": null,
   "id": "192021d3",
   "metadata": {},
   "outputs": [],
   "source": []
  }
 ],
 "metadata": {
  "kernelspec": {
   "display_name": "Python 3",
   "language": "python",
   "name": "python3"
  },
  "language_info": {
   "codemirror_mode": {
    "name": "ipython",
    "version": 3
   },
   "file_extension": ".py",
   "mimetype": "text/x-python",
   "name": "python",
   "nbconvert_exporter": "python",
   "pygments_lexer": "ipython3",
   "version": "3.8.8"
  }
 },
 "nbformat": 4,
 "nbformat_minor": 5
}
